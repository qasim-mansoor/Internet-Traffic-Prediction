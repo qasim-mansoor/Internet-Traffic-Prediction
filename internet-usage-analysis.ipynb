{
 "cells": [
  {
   "cell_type": "markdown",
   "id": "527a9182",
   "metadata": {
    "papermill": {
     "duration": 0.023037,
     "end_time": "2022-12-08T16:41:36.018262",
     "exception": false,
     "start_time": "2022-12-08T16:41:35.995225",
     "status": "completed"
    },
    "tags": []
   },
   "source": [
    "# Internet Usage Analysis Project\n",
    "\n",
    "### Qasim Mansoor 19P-0055\n",
    "### Zulqarnain 19P-0119\n",
    "### Section 7A"
   ]
  },
  {
   "cell_type": "markdown",
   "id": "38010f45",
   "metadata": {
    "papermill": {
     "duration": 0.017751,
     "end_time": "2022-12-08T16:41:36.054324",
     "exception": false,
     "start_time": "2022-12-08T16:41:36.036573",
     "status": "completed"
    },
    "tags": []
   },
   "source": [
    "This project is about the Data of internet usage [in kb] by graduate student at an indian university.\n",
    "We will clean it and analyze it while answering these qustions:\n",
    "\n",
    "* What is the most frequent internet activity time of the day ?\n",
    "* How often the ip changes ?\n",
    "* How often the device changed.\n",
    "* What is the average usage per hour , per day and per month ?"
   ]
  },
  {
   "cell_type": "markdown",
   "id": "b55a95e0",
   "metadata": {
    "papermill": {
     "duration": 0.017701,
     "end_time": "2022-12-08T16:41:36.090160",
     "exception": false,
     "start_time": "2022-12-08T16:41:36.072459",
     "status": "completed"
    },
    "tags": []
   },
   "source": [
    "### 1 - Importing and Cleaning the Data"
   ]
  },
  {
   "cell_type": "markdown",
   "id": "e0e9943a",
   "metadata": {
    "papermill": {
     "duration": 0.017798,
     "end_time": "2022-12-08T16:41:36.126621",
     "exception": false,
     "start_time": "2022-12-08T16:41:36.108823",
     "status": "completed"
    },
    "tags": []
   },
   "source": [
    "We start by importing the Data, Cleaning it and making it ready for Analysis"
   ]
  },
  {
   "cell_type": "code",
   "execution_count": 1,
   "id": "bc0b445f",
   "metadata": {
    "execution": {
     "iopub.execute_input": "2022-12-08T16:41:36.165733Z",
     "iopub.status.busy": "2022-12-08T16:41:36.164853Z",
     "iopub.status.idle": "2022-12-08T16:41:37.398087Z",
     "shell.execute_reply": "2022-12-08T16:41:37.396941Z"
    },
    "papermill": {
     "duration": 1.256101,
     "end_time": "2022-12-08T16:41:37.400585",
     "exception": false,
     "start_time": "2022-12-08T16:41:36.144484",
     "status": "completed"
    },
    "tags": []
   },
   "outputs": [],
   "source": [
    "import pandas as pd\n",
    "import numpy as np\n",
    "import matplotlib.pyplot as plt\n",
    "import seaborn as sns\n",
    "\n",
    "internet_usage = pd.read_csv('internet_session.csv', parse_dates=['start_time'])"
   ]
  },
  {
   "cell_type": "code",
   "execution_count": 2,
   "id": "5dedd97a",
   "metadata": {
    "execution": {
     "iopub.execute_input": "2022-12-08T16:41:37.440022Z",
     "iopub.status.busy": "2022-12-08T16:41:37.439336Z",
     "iopub.status.idle": "2022-12-08T16:41:37.476695Z",
     "shell.execute_reply": "2022-12-08T16:41:37.475558Z"
    },
    "papermill": {
     "duration": 0.059897,
     "end_time": "2022-12-08T16:41:37.479077",
     "exception": false,
     "start_time": "2022-12-08T16:41:37.419180",
     "status": "completed"
    },
    "tags": []
   },
   "outputs": [
    {
     "data": {
      "text/html": [
       "<div>\n",
       "<style scoped>\n",
       "    .dataframe tbody tr th:only-of-type {\n",
       "        vertical-align: middle;\n",
       "    }\n",
       "\n",
       "    .dataframe tbody tr th {\n",
       "        vertical-align: top;\n",
       "    }\n",
       "\n",
       "    .dataframe thead th {\n",
       "        text-align: right;\n",
       "    }\n",
       "</style>\n",
       "<table border=\"1\" class=\"dataframe\">\n",
       "  <thead>\n",
       "    <tr style=\"text-align: right;\">\n",
       "      <th></th>\n",
       "      <th>name</th>\n",
       "      <th>start_time</th>\n",
       "      <th>usage_time</th>\n",
       "      <th>IP</th>\n",
       "      <th>MAC</th>\n",
       "      <th>upload</th>\n",
       "      <th>download</th>\n",
       "      <th>total_transfer</th>\n",
       "      <th>seession_break_reason</th>\n",
       "    </tr>\n",
       "  </thead>\n",
       "  <tbody>\n",
       "    <tr>\n",
       "      <th>0</th>\n",
       "      <td>user1</td>\n",
       "      <td>2022-05-10 02:59:32</td>\n",
       "      <td>00:00:36:28</td>\n",
       "      <td>10.55.14.222</td>\n",
       "      <td>48:E7:DA:58:22:E9</td>\n",
       "      <td>15861.76</td>\n",
       "      <td>333168.64</td>\n",
       "      <td>349030.40</td>\n",
       "      <td>Idle-Timeout</td>\n",
       "    </tr>\n",
       "    <tr>\n",
       "      <th>1</th>\n",
       "      <td>user1</td>\n",
       "      <td>2022-05-10 18:53:27</td>\n",
       "      <td>00:01:49:56</td>\n",
       "      <td>10.55.2.253</td>\n",
       "      <td>48:E7:DA:58:22:E9</td>\n",
       "      <td>16957.44</td>\n",
       "      <td>212152.32</td>\n",
       "      <td>229109.76</td>\n",
       "      <td>Idle-Timeout</td>\n",
       "    </tr>\n",
       "    <tr>\n",
       "      <th>2</th>\n",
       "      <td>user1</td>\n",
       "      <td>2022-05-10 21:20:44</td>\n",
       "      <td>00:01:35:00</td>\n",
       "      <td>10.55.2.253</td>\n",
       "      <td>48:E7:DA:58:22:E9</td>\n",
       "      <td>14080.0</td>\n",
       "      <td>195153.92</td>\n",
       "      <td>209233.92</td>\n",
       "      <td>Idle-Timeout</td>\n",
       "    </tr>\n",
       "    <tr>\n",
       "      <th>3</th>\n",
       "      <td>user1</td>\n",
       "      <td>2022-05-11 00:37:42</td>\n",
       "      <td>00:00:26:00</td>\n",
       "      <td>10.55.2.253</td>\n",
       "      <td>48:E7:DA:58:22:E9</td>\n",
       "      <td>5242.88</td>\n",
       "      <td>40806.4</td>\n",
       "      <td>46049.28</td>\n",
       "      <td>Idle-Timeout</td>\n",
       "    </tr>\n",
       "    <tr>\n",
       "      <th>4</th>\n",
       "      <td>user1</td>\n",
       "      <td>2022-05-11 02:59:38</td>\n",
       "      <td>00:00:11:52</td>\n",
       "      <td>10.55.2.253</td>\n",
       "      <td>48:E7:DA:58:22:E9</td>\n",
       "      <td>22067.2</td>\n",
       "      <td>10772.48</td>\n",
       "      <td>32839.68</td>\n",
       "      <td>Idle-Timeout</td>\n",
       "    </tr>\n",
       "    <tr>\n",
       "      <th>...</th>\n",
       "      <td>...</td>\n",
       "      <td>...</td>\n",
       "      <td>...</td>\n",
       "      <td>...</td>\n",
       "      <td>...</td>\n",
       "      <td>...</td>\n",
       "      <td>...</td>\n",
       "      <td>...</td>\n",
       "      <td>...</td>\n",
       "    </tr>\n",
       "    <tr>\n",
       "      <th>4707</th>\n",
       "      <td>user9</td>\n",
       "      <td>2022-11-04 01:11:34</td>\n",
       "      <td>00:06:54:32</td>\n",
       "      <td>10.55.4.189</td>\n",
       "      <td>DA:2F:97:0E:B7:D0</td>\n",
       "      <td>107960.32</td>\n",
       "      <td>2390753.28</td>\n",
       "      <td>2495610.88</td>\n",
       "      <td>Idle-Timeout</td>\n",
       "    </tr>\n",
       "    <tr>\n",
       "      <th>4708</th>\n",
       "      <td>user9</td>\n",
       "      <td>2022-11-04 10:26:09</td>\n",
       "      <td>00:00:23:49</td>\n",
       "      <td>10.55.4.59</td>\n",
       "      <td>DA:2F:97:0E:B7:D0</td>\n",
       "      <td>11407.36</td>\n",
       "      <td>209674.24</td>\n",
       "      <td>221081.60</td>\n",
       "      <td>Idle-Timeout</td>\n",
       "    </tr>\n",
       "    <tr>\n",
       "      <th>4709</th>\n",
       "      <td>user9</td>\n",
       "      <td>2022-11-04 20:41:42</td>\n",
       "      <td>00:01:24:13</td>\n",
       "      <td>10.55.15.186</td>\n",
       "      <td>DA:2F:97:0E:B7:D0</td>\n",
       "      <td>18995.2</td>\n",
       "      <td>373657.6</td>\n",
       "      <td>392652.80</td>\n",
       "      <td>Idle-Timeout</td>\n",
       "    </tr>\n",
       "    <tr>\n",
       "      <th>4710</th>\n",
       "      <td>user9</td>\n",
       "      <td>2022-11-05 00:21:06</td>\n",
       "      <td>00:08:49:43</td>\n",
       "      <td>10.55.4.159</td>\n",
       "      <td>DA:2F:97:0E:B7:D0</td>\n",
       "      <td>46602.24</td>\n",
       "      <td>593766.4</td>\n",
       "      <td>640368.64</td>\n",
       "      <td>Idle-Timeout</td>\n",
       "    </tr>\n",
       "    <tr>\n",
       "      <th>4711</th>\n",
       "      <td>user9</td>\n",
       "      <td>2022-11-05 20:55:37</td>\n",
       "      <td>00:01:06:20</td>\n",
       "      <td>10.55.2.33</td>\n",
       "      <td>DA:2F:97:0E:B7:D0</td>\n",
       "      <td>21237.76</td>\n",
       "      <td>298536.96</td>\n",
       "      <td>319774.72</td>\n",
       "      <td>NaN</td>\n",
       "    </tr>\n",
       "  </tbody>\n",
       "</table>\n",
       "<p>4712 rows × 9 columns</p>\n",
       "</div>"
      ],
      "text/plain": [
       "       name          start_time   usage_time            IP                MAC  \\\n",
       "0     user1 2022-05-10 02:59:32  00:00:36:28  10.55.14.222  48:E7:DA:58:22:E9   \n",
       "1     user1 2022-05-10 18:53:27  00:01:49:56   10.55.2.253  48:E7:DA:58:22:E9   \n",
       "2     user1 2022-05-10 21:20:44  00:01:35:00   10.55.2.253  48:E7:DA:58:22:E9   \n",
       "3     user1 2022-05-11 00:37:42  00:00:26:00   10.55.2.253  48:E7:DA:58:22:E9   \n",
       "4     user1 2022-05-11 02:59:38  00:00:11:52   10.55.2.253  48:E7:DA:58:22:E9   \n",
       "...     ...                 ...          ...           ...                ...   \n",
       "4707  user9 2022-11-04 01:11:34  00:06:54:32   10.55.4.189  DA:2F:97:0E:B7:D0   \n",
       "4708  user9 2022-11-04 10:26:09  00:00:23:49    10.55.4.59  DA:2F:97:0E:B7:D0   \n",
       "4709  user9 2022-11-04 20:41:42  00:01:24:13  10.55.15.186  DA:2F:97:0E:B7:D0   \n",
       "4710  user9 2022-11-05 00:21:06  00:08:49:43   10.55.4.159  DA:2F:97:0E:B7:D0   \n",
       "4711  user9 2022-11-05 20:55:37  00:01:06:20    10.55.2.33  DA:2F:97:0E:B7:D0   \n",
       "\n",
       "         upload    download  total_transfer seession_break_reason  \n",
       "0      15861.76   333168.64       349030.40          Idle-Timeout  \n",
       "1      16957.44   212152.32       229109.76          Idle-Timeout  \n",
       "2       14080.0   195153.92       209233.92          Idle-Timeout  \n",
       "3       5242.88     40806.4        46049.28          Idle-Timeout  \n",
       "4       22067.2    10772.48        32839.68          Idle-Timeout  \n",
       "...         ...         ...             ...                   ...  \n",
       "4707  107960.32  2390753.28      2495610.88          Idle-Timeout  \n",
       "4708   11407.36   209674.24       221081.60          Idle-Timeout  \n",
       "4709    18995.2    373657.6       392652.80          Idle-Timeout  \n",
       "4710   46602.24    593766.4       640368.64          Idle-Timeout  \n",
       "4711   21237.76   298536.96       319774.72                   NaN  \n",
       "\n",
       "[4712 rows x 9 columns]"
      ]
     },
     "execution_count": 2,
     "metadata": {},
     "output_type": "execute_result"
    }
   ],
   "source": [
    "internet_usage"
   ]
  },
  {
   "cell_type": "code",
   "execution_count": 4,
   "id": "51b7e2ce",
   "metadata": {
    "execution": {
     "iopub.execute_input": "2022-12-08T16:41:37.525439Z",
     "iopub.status.busy": "2022-12-08T16:41:37.524578Z",
     "iopub.status.idle": "2022-12-08T16:41:37.530480Z",
     "shell.execute_reply": "2022-12-08T16:41:37.529752Z"
    },
    "papermill": {
     "duration": 0.028956,
     "end_time": "2022-12-08T16:41:37.532580",
     "exception": false,
     "start_time": "2022-12-08T16:41:37.503624",
     "status": "completed"
    },
    "tags": []
   },
   "outputs": [
    {
     "data": {
      "text/plain": [
       "(4712, 9)"
      ]
     },
     "execution_count": 4,
     "metadata": {},
     "output_type": "execute_result"
    }
   ],
   "source": [
    "internet_usage.shape"
   ]
  },
  {
   "cell_type": "markdown",
   "id": "6d08991d",
   "metadata": {
    "papermill": {
     "duration": 0.023058,
     "end_time": "2022-12-08T16:41:37.577823",
     "exception": false,
     "start_time": "2022-12-08T16:41:37.554765",
     "status": "completed"
    },
    "tags": []
   },
   "source": [
    "This Dataset contains 9 columns and 4712 rows"
   ]
  },
  {
   "cell_type": "code",
   "execution_count": 5,
   "id": "0b381f7a",
   "metadata": {
    "execution": {
     "iopub.execute_input": "2022-12-08T16:41:37.619045Z",
     "iopub.status.busy": "2022-12-08T16:41:37.618328Z",
     "iopub.status.idle": "2022-12-08T16:41:37.626271Z",
     "shell.execute_reply": "2022-12-08T16:41:37.624727Z"
    },
    "papermill": {
     "duration": 0.030736,
     "end_time": "2022-12-08T16:41:37.628358",
     "exception": false,
     "start_time": "2022-12-08T16:41:37.597622",
     "status": "completed"
    },
    "tags": []
   },
   "outputs": [
    {
     "data": {
      "text/plain": [
       "Index(['name', 'start_time', 'usage_time', 'IP', 'MAC', 'upload', 'download',\n",
       "       'total_transfer', 'seession_break_reason'],\n",
       "      dtype='object')"
      ]
     },
     "execution_count": 5,
     "metadata": {},
     "output_type": "execute_result"
    }
   ],
   "source": [
    "internet_usage.columns"
   ]
  },
  {
   "cell_type": "markdown",
   "id": "8abc9d69",
   "metadata": {
    "papermill": {
     "duration": 0.019239,
     "end_time": "2022-12-08T16:41:37.667956",
     "exception": false,
     "start_time": "2022-12-08T16:41:37.648717",
     "status": "completed"
    },
    "tags": []
   },
   "source": [
    "These are the names of the columns, let's make them easier to work with"
   ]
  },
  {
   "cell_type": "code",
   "execution_count": 6,
   "id": "37315e37",
   "metadata": {
    "execution": {
     "iopub.execute_input": "2022-12-08T16:41:37.708192Z",
     "iopub.status.busy": "2022-12-08T16:41:37.707733Z",
     "iopub.status.idle": "2022-12-08T16:41:37.715061Z",
     "shell.execute_reply": "2022-12-08T16:41:37.714413Z"
    },
    "papermill": {
     "duration": 0.029506,
     "end_time": "2022-12-08T16:41:37.716826",
     "exception": false,
     "start_time": "2022-12-08T16:41:37.687320",
     "status": "completed"
    },
    "tags": []
   },
   "outputs": [
    {
     "data": {
      "text/plain": [
       "Index(['name', 'start_time', 'usage_time', 'ip', 'mac', 'upload', 'download',\n",
       "       'total_transfer', 'seession_break_reason'],\n",
       "      dtype='object')"
      ]
     },
     "execution_count": 6,
     "metadata": {},
     "output_type": "execute_result"
    }
   ],
   "source": [
    "internet_usage.columns = internet_usage.columns.str.lower()\n",
    "internet_usage.columns"
   ]
  },
  {
   "cell_type": "markdown",
   "id": "99091749",
   "metadata": {
    "papermill": {
     "duration": 0.018019,
     "end_time": "2022-12-08T16:41:37.753572",
     "exception": false,
     "start_time": "2022-12-08T16:41:37.735553",
     "status": "completed"
    },
    "tags": []
   },
   "source": [
    "Now let's check the data type of the columns"
   ]
  },
  {
   "cell_type": "code",
   "execution_count": 7,
   "id": "54880ebf",
   "metadata": {
    "execution": {
     "iopub.execute_input": "2022-12-08T16:41:37.793782Z",
     "iopub.status.busy": "2022-12-08T16:41:37.792362Z",
     "iopub.status.idle": "2022-12-08T16:41:37.801693Z",
     "shell.execute_reply": "2022-12-08T16:41:37.800606Z"
    },
    "papermill": {
     "duration": 0.031368,
     "end_time": "2022-12-08T16:41:37.803715",
     "exception": false,
     "start_time": "2022-12-08T16:41:37.772347",
     "status": "completed"
    },
    "tags": []
   },
   "outputs": [
    {
     "data": {
      "text/plain": [
       "name                             object\n",
       "start_time               datetime64[ns]\n",
       "usage_time                       object\n",
       "ip                               object\n",
       "mac                              object\n",
       "upload                           object\n",
       "download                         object\n",
       "total_transfer                  float64\n",
       "seession_break_reason            object\n",
       "dtype: object"
      ]
     },
     "execution_count": 7,
     "metadata": {},
     "output_type": "execute_result"
    }
   ],
   "source": [
    "internet_usage.dtypes"
   ]
  },
  {
   "cell_type": "markdown",
   "id": "2f40ada1",
   "metadata": {
    "papermill": {
     "duration": 0.018751,
     "end_time": "2022-12-08T16:41:37.841407",
     "exception": false,
     "start_time": "2022-12-08T16:41:37.822656",
     "status": "completed"
    },
    "tags": []
   },
   "source": [
    "A lot of columns are in the wrong data type, we need to fix that"
   ]
  },
  {
   "cell_type": "markdown",
   "id": "dfd14ddf",
   "metadata": {
    "papermill": {
     "duration": 0.018731,
     "end_time": "2022-12-08T16:41:37.879274",
     "exception": false,
     "start_time": "2022-12-08T16:41:37.860543",
     "status": "completed"
    },
    "tags": []
   },
   "source": [
    "first we will check the null values and drop them if necessary"
   ]
  },
  {
   "cell_type": "code",
   "execution_count": 8,
   "id": "c3beb4ed",
   "metadata": {
    "execution": {
     "iopub.execute_input": "2022-12-08T16:41:37.920096Z",
     "iopub.status.busy": "2022-12-08T16:41:37.918748Z",
     "iopub.status.idle": "2022-12-08T16:41:37.930887Z",
     "shell.execute_reply": "2022-12-08T16:41:37.929118Z"
    },
    "papermill": {
     "duration": 0.036018,
     "end_time": "2022-12-08T16:41:37.934454",
     "exception": false,
     "start_time": "2022-12-08T16:41:37.898436",
     "status": "completed"
    },
    "tags": []
   },
   "outputs": [
    {
     "data": {
      "text/plain": [
       "name                     0\n",
       "start_time               0\n",
       "usage_time               0\n",
       "ip                       0\n",
       "mac                      0\n",
       "upload                   0\n",
       "download                 0\n",
       "total_transfer           0\n",
       "seession_break_reason    9\n",
       "dtype: int64"
      ]
     },
     "execution_count": 8,
     "metadata": {},
     "output_type": "execute_result"
    }
   ],
   "source": [
    "internet_usage.isna().sum()"
   ]
  },
  {
   "cell_type": "markdown",
   "id": "b552615d",
   "metadata": {
    "papermill": {
     "duration": 0.018925,
     "end_time": "2022-12-08T16:41:37.972697",
     "exception": false,
     "start_time": "2022-12-08T16:41:37.953772",
     "status": "completed"
    },
    "tags": []
   },
   "source": [
    "the column \"seession_break_reason\" has some null values but since it's a very low amount, we can safely delete them, it won't affect our analysis"
   ]
  },
  {
   "cell_type": "code",
   "execution_count": 9,
   "id": "25bc0621",
   "metadata": {
    "execution": {
     "iopub.execute_input": "2022-12-08T16:41:38.013423Z",
     "iopub.status.busy": "2022-12-08T16:41:38.012973Z",
     "iopub.status.idle": "2022-12-08T16:41:38.031548Z",
     "shell.execute_reply": "2022-12-08T16:41:38.030694Z"
    },
    "papermill": {
     "duration": 0.040985,
     "end_time": "2022-12-08T16:41:38.033700",
     "exception": false,
     "start_time": "2022-12-08T16:41:37.992715",
     "status": "completed"
    },
    "tags": []
   },
   "outputs": [
    {
     "data": {
      "text/plain": [
       "name                     0\n",
       "start_time               0\n",
       "usage_time               0\n",
       "ip                       0\n",
       "mac                      0\n",
       "upload                   0\n",
       "download                 0\n",
       "total_transfer           0\n",
       "seession_break_reason    0\n",
       "dtype: int64"
      ]
     },
     "execution_count": 9,
     "metadata": {},
     "output_type": "execute_result"
    }
   ],
   "source": [
    "internet_usage = internet_usage.dropna().copy()\n",
    "internet_usage.isna().sum()"
   ]
  },
  {
   "cell_type": "markdown",
   "id": "667b5b32",
   "metadata": {
    "papermill": {
     "duration": 0.019883,
     "end_time": "2022-12-08T16:41:38.072897",
     "exception": false,
     "start_time": "2022-12-08T16:41:38.053014",
     "status": "completed"
    },
    "tags": []
   },
   "source": [
    "Now let's check if the dataset contains duplicates and drop them if that's the case"
   ]
  },
  {
   "cell_type": "code",
   "execution_count": 10,
   "id": "9aac6efc",
   "metadata": {
    "execution": {
     "iopub.execute_input": "2022-12-08T16:41:38.112986Z",
     "iopub.status.busy": "2022-12-08T16:41:38.112185Z",
     "iopub.status.idle": "2022-12-08T16:41:38.133700Z",
     "shell.execute_reply": "2022-12-08T16:41:38.131977Z"
    },
    "papermill": {
     "duration": 0.043981,
     "end_time": "2022-12-08T16:41:38.135679",
     "exception": false,
     "start_time": "2022-12-08T16:41:38.091698",
     "status": "completed"
    },
    "tags": []
   },
   "outputs": [
    {
     "data": {
      "text/plain": [
       "0"
      ]
     },
     "execution_count": 10,
     "metadata": {},
     "output_type": "execute_result"
    }
   ],
   "source": [
    "internet_usage.duplicated().sum()"
   ]
  },
  {
   "cell_type": "markdown",
   "id": "ff359ba9",
   "metadata": {
    "papermill": {
     "duration": 0.019775,
     "end_time": "2022-12-08T16:41:38.174298",
     "exception": false,
     "start_time": "2022-12-08T16:41:38.154523",
     "status": "completed"
    },
    "tags": []
   },
   "source": [
    "No duplicates, so now we can start converting the right columns from strings to numeric"
   ]
  },
  {
   "cell_type": "code",
   "execution_count": 11,
   "id": "21cfd1af",
   "metadata": {
    "execution": {
     "iopub.execute_input": "2022-12-08T16:41:38.215466Z",
     "iopub.status.busy": "2022-12-08T16:41:38.214790Z",
     "iopub.status.idle": "2022-12-08T16:41:38.437286Z",
     "shell.execute_reply": "2022-12-08T16:41:38.436532Z"
    },
    "papermill": {
     "duration": 0.245931,
     "end_time": "2022-12-08T16:41:38.439795",
     "exception": false,
     "start_time": "2022-12-08T16:41:38.193864",
     "status": "completed"
    },
    "tags": []
   },
   "outputs": [
    {
     "data": {
      "text/plain": [
       "name                             object\n",
       "start_time               datetime64[ns]\n",
       "usage_time               datetime64[ns]\n",
       "ip                               object\n",
       "mac                              object\n",
       "upload                          float64\n",
       "download                        float64\n",
       "total_transfer                  float64\n",
       "seession_break_reason            object\n",
       "device                           object\n",
       "dtype: object"
      ]
     },
     "execution_count": 11,
     "metadata": {},
     "output_type": "execute_result"
    }
   ],
   "source": [
    "internet_usage['usage_time'] = internet_usage['usage_time'].str.replace('00:', '', 1)\n",
    "internet_usage['usage_time'] = pd.to_datetime(internet_usage['usage_time'])\n",
    "\n",
    "internet_usage['upload'] = internet_usage['upload'].str.extract('(\\d+)', expand=False)\n",
    "internet_usage.upload = internet_usage.upload.astype(float)\n",
    "\n",
    "internet_usage['download'] = internet_usage['download'].str.extract('(\\d+)', expand=False)\n",
    "internet_usage.download = internet_usage.download.astype(float)\n",
    "\n",
    "device = []\n",
    "basename = 'device'\n",
    "mac = internet_usage['mac'][0]\n",
    "device_number = 1\n",
    "for i in internet_usage['mac']:\n",
    "    if i == mac:\n",
    "        device.append(basename + str(device_number))\n",
    "    else:\n",
    "        device_number += 1\n",
    "        device.append(basename + str(device_number))\n",
    "        mac = i\n",
    "internet_usage['device'] = device\n",
    "\n",
    "internet_usage.dtypes"
   ]
  },
  {
   "cell_type": "markdown",
   "id": "c770974c",
   "metadata": {
    "papermill": {
     "duration": 0.019242,
     "end_time": "2022-12-08T16:41:38.478539",
     "exception": false,
     "start_time": "2022-12-08T16:41:38.459297",
     "status": "completed"
    },
    "tags": []
   },
   "source": [
    "Now the columns are in the right data types, we can proceed to the exploratory data analysis"
   ]
  },
  {
   "cell_type": "markdown",
   "id": "7d18bbca",
   "metadata": {
    "papermill": {
     "duration": 0.019367,
     "end_time": "2022-12-08T16:41:38.517587",
     "exception": false,
     "start_time": "2022-12-08T16:41:38.498220",
     "status": "completed"
    },
    "tags": []
   },
   "source": [
    "### 2 - Exploratory Data Analysis"
   ]
  },
  {
   "cell_type": "markdown",
   "id": "0f0678a6",
   "metadata": {
    "papermill": {
     "duration": 0.018923,
     "end_time": "2022-12-08T16:41:38.555958",
     "exception": false,
     "start_time": "2022-12-08T16:41:38.537035",
     "status": "completed"
    },
    "tags": []
   },
   "source": [
    "We will start with calculating some descriptive statistics"
   ]
  },
  {
   "cell_type": "code",
   "execution_count": 12,
   "id": "2313ee95",
   "metadata": {
    "execution": {
     "iopub.execute_input": "2022-12-08T16:41:38.596422Z",
     "iopub.status.busy": "2022-12-08T16:41:38.595979Z",
     "iopub.status.idle": "2022-12-08T16:41:38.638142Z",
     "shell.execute_reply": "2022-12-08T16:41:38.636614Z"
    },
    "papermill": {
     "duration": 0.065359,
     "end_time": "2022-12-08T16:41:38.640485",
     "exception": false,
     "start_time": "2022-12-08T16:41:38.575126",
     "status": "completed"
    },
    "tags": []
   },
   "outputs": [
    {
     "data": {
      "text/html": [
       "<div>\n",
       "<style scoped>\n",
       "    .dataframe tbody tr th:only-of-type {\n",
       "        vertical-align: middle;\n",
       "    }\n",
       "\n",
       "    .dataframe tbody tr th {\n",
       "        vertical-align: top;\n",
       "    }\n",
       "\n",
       "    .dataframe thead th {\n",
       "        text-align: right;\n",
       "    }\n",
       "</style>\n",
       "<table border=\"1\" class=\"dataframe\">\n",
       "  <thead>\n",
       "    <tr style=\"text-align: right;\">\n",
       "      <th></th>\n",
       "      <th>name</th>\n",
       "      <th>start_time</th>\n",
       "      <th>usage_time</th>\n",
       "      <th>ip</th>\n",
       "      <th>mac</th>\n",
       "      <th>upload</th>\n",
       "      <th>download</th>\n",
       "      <th>total_transfer</th>\n",
       "      <th>seession_break_reason</th>\n",
       "      <th>device</th>\n",
       "    </tr>\n",
       "  </thead>\n",
       "  <tbody>\n",
       "    <tr>\n",
       "      <th>count</th>\n",
       "      <td>4703</td>\n",
       "      <td>4703</td>\n",
       "      <td>4703</td>\n",
       "      <td>4703</td>\n",
       "      <td>4703</td>\n",
       "      <td>4.703000e+03</td>\n",
       "      <td>4.703000e+03</td>\n",
       "      <td>4.703000e+03</td>\n",
       "      <td>4703</td>\n",
       "      <td>4703</td>\n",
       "    </tr>\n",
       "    <tr>\n",
       "      <th>unique</th>\n",
       "      <td>9</td>\n",
       "      <td>NaN</td>\n",
       "      <td>NaN</td>\n",
       "      <td>1299</td>\n",
       "      <td>33</td>\n",
       "      <td>NaN</td>\n",
       "      <td>NaN</td>\n",
       "      <td>NaN</td>\n",
       "      <td>5</td>\n",
       "      <td>1224</td>\n",
       "    </tr>\n",
       "    <tr>\n",
       "      <th>top</th>\n",
       "      <td>user4</td>\n",
       "      <td>NaN</td>\n",
       "      <td>NaN</td>\n",
       "      <td>10.55.0.89</td>\n",
       "      <td>48:E7:DA:58:22:E9</td>\n",
       "      <td>NaN</td>\n",
       "      <td>NaN</td>\n",
       "      <td>NaN</td>\n",
       "      <td>Idle-Timeout</td>\n",
       "      <td>device1206</td>\n",
       "    </tr>\n",
       "    <tr>\n",
       "      <th>freq</th>\n",
       "      <td>725</td>\n",
       "      <td>NaN</td>\n",
       "      <td>NaN</td>\n",
       "      <td>80</td>\n",
       "      <td>1235</td>\n",
       "      <td>NaN</td>\n",
       "      <td>NaN</td>\n",
       "      <td>NaN</td>\n",
       "      <td>4350</td>\n",
       "      <td>194</td>\n",
       "    </tr>\n",
       "    <tr>\n",
       "      <th>mean</th>\n",
       "      <td>NaN</td>\n",
       "      <td>2022-08-08 09:35:44.875185920</td>\n",
       "      <td>2022-12-18 02:10:05.038486016</td>\n",
       "      <td>NaN</td>\n",
       "      <td>NaN</td>\n",
       "      <td>3.378702e+04</td>\n",
       "      <td>3.966645e+05</td>\n",
       "      <td>4.304372e+05</td>\n",
       "      <td>NaN</td>\n",
       "      <td>NaN</td>\n",
       "    </tr>\n",
       "    <tr>\n",
       "      <th>min</th>\n",
       "      <td>NaN</td>\n",
       "      <td>2022-05-09 22:52:41</td>\n",
       "      <td>2022-12-18 00:00:01</td>\n",
       "      <td>NaN</td>\n",
       "      <td>NaN</td>\n",
       "      <td>2.000000e+00</td>\n",
       "      <td>9.000000e+00</td>\n",
       "      <td>1.120000e+00</td>\n",
       "      <td>NaN</td>\n",
       "      <td>NaN</td>\n",
       "    </tr>\n",
       "    <tr>\n",
       "      <th>25%</th>\n",
       "      <td>NaN</td>\n",
       "      <td>2022-06-14 18:33:06.500000</td>\n",
       "      <td>2022-12-18 00:31:42</td>\n",
       "      <td>NaN</td>\n",
       "      <td>NaN</td>\n",
       "      <td>6.082000e+03</td>\n",
       "      <td>5.199800e+04</td>\n",
       "      <td>6.187008e+04</td>\n",
       "      <td>NaN</td>\n",
       "      <td>NaN</td>\n",
       "    </tr>\n",
       "    <tr>\n",
       "      <th>50%</th>\n",
       "      <td>NaN</td>\n",
       "      <td>2022-08-19 13:56:28</td>\n",
       "      <td>2022-12-18 01:19:40</td>\n",
       "      <td>NaN</td>\n",
       "      <td>NaN</td>\n",
       "      <td>1.531900e+04</td>\n",
       "      <td>1.782680e+05</td>\n",
       "      <td>2.027930e+05</td>\n",
       "      <td>NaN</td>\n",
       "      <td>NaN</td>\n",
       "    </tr>\n",
       "    <tr>\n",
       "      <th>75%</th>\n",
       "      <td>NaN</td>\n",
       "      <td>2022-09-24 22:30:58.500000</td>\n",
       "      <td>2022-12-18 02:49:02</td>\n",
       "      <td>NaN</td>\n",
       "      <td>NaN</td>\n",
       "      <td>3.399600e+04</td>\n",
       "      <td>4.593660e+05</td>\n",
       "      <td>4.993997e+05</td>\n",
       "      <td>NaN</td>\n",
       "      <td>NaN</td>\n",
       "    </tr>\n",
       "    <tr>\n",
       "      <th>max</th>\n",
       "      <td>NaN</td>\n",
       "      <td>2022-11-05 18:41:14</td>\n",
       "      <td>2022-12-18 22:00:07</td>\n",
       "      <td>NaN</td>\n",
       "      <td>NaN</td>\n",
       "      <td>2.841640e+06</td>\n",
       "      <td>2.790261e+07</td>\n",
       "      <td>2.855272e+07</td>\n",
       "      <td>NaN</td>\n",
       "      <td>NaN</td>\n",
       "    </tr>\n",
       "    <tr>\n",
       "      <th>std</th>\n",
       "      <td>NaN</td>\n",
       "      <td>NaN</td>\n",
       "      <td>NaN</td>\n",
       "      <td>NaN</td>\n",
       "      <td>NaN</td>\n",
       "      <td>9.493243e+04</td>\n",
       "      <td>9.657778e+05</td>\n",
       "      <td>9.960848e+05</td>\n",
       "      <td>NaN</td>\n",
       "      <td>NaN</td>\n",
       "    </tr>\n",
       "  </tbody>\n",
       "</table>\n",
       "</div>"
      ],
      "text/plain": [
       "         name                     start_time                     usage_time  \\\n",
       "count    4703                           4703                           4703   \n",
       "unique      9                            NaN                            NaN   \n",
       "top     user4                            NaN                            NaN   \n",
       "freq      725                            NaN                            NaN   \n",
       "mean      NaN  2022-08-08 09:35:44.875185920  2022-12-18 02:10:05.038486016   \n",
       "min       NaN            2022-05-09 22:52:41            2022-12-18 00:00:01   \n",
       "25%       NaN     2022-06-14 18:33:06.500000            2022-12-18 00:31:42   \n",
       "50%       NaN            2022-08-19 13:56:28            2022-12-18 01:19:40   \n",
       "75%       NaN     2022-09-24 22:30:58.500000            2022-12-18 02:49:02   \n",
       "max       NaN            2022-11-05 18:41:14            2022-12-18 22:00:07   \n",
       "std       NaN                            NaN                            NaN   \n",
       "\n",
       "                ip                mac        upload      download  \\\n",
       "count         4703               4703  4.703000e+03  4.703000e+03   \n",
       "unique        1299                 33           NaN           NaN   \n",
       "top     10.55.0.89  48:E7:DA:58:22:E9           NaN           NaN   \n",
       "freq            80               1235           NaN           NaN   \n",
       "mean           NaN                NaN  3.378702e+04  3.966645e+05   \n",
       "min            NaN                NaN  2.000000e+00  9.000000e+00   \n",
       "25%            NaN                NaN  6.082000e+03  5.199800e+04   \n",
       "50%            NaN                NaN  1.531900e+04  1.782680e+05   \n",
       "75%            NaN                NaN  3.399600e+04  4.593660e+05   \n",
       "max            NaN                NaN  2.841640e+06  2.790261e+07   \n",
       "std            NaN                NaN  9.493243e+04  9.657778e+05   \n",
       "\n",
       "        total_transfer seession_break_reason      device  \n",
       "count     4.703000e+03                  4703        4703  \n",
       "unique             NaN                     5        1224  \n",
       "top                NaN          Idle-Timeout  device1206  \n",
       "freq               NaN                  4350         194  \n",
       "mean      4.304372e+05                   NaN         NaN  \n",
       "min       1.120000e+00                   NaN         NaN  \n",
       "25%       6.187008e+04                   NaN         NaN  \n",
       "50%       2.027930e+05                   NaN         NaN  \n",
       "75%       4.993997e+05                   NaN         NaN  \n",
       "max       2.855272e+07                   NaN         NaN  \n",
       "std       9.960848e+05                   NaN         NaN  "
      ]
     },
     "execution_count": 12,
     "metadata": {},
     "output_type": "execute_result"
    }
   ],
   "source": [
    "internet_usage.describe(include='all', datetime_is_numeric=True)"
   ]
  },
  {
   "cell_type": "markdown",
   "id": "75756492",
   "metadata": {
    "papermill": {
     "duration": 0.019475,
     "end_time": "2022-12-08T16:41:38.679989",
     "exception": false,
     "start_time": "2022-12-08T16:41:38.660514",
     "status": "completed"
    },
    "tags": []
   },
   "source": [
    "We have 9 users, let's check their count"
   ]
  },
  {
   "cell_type": "code",
   "execution_count": 13,
   "id": "8d8586dd",
   "metadata": {
    "execution": {
     "iopub.execute_input": "2022-12-08T16:41:38.722077Z",
     "iopub.status.busy": "2022-12-08T16:41:38.721182Z",
     "iopub.status.idle": "2022-12-08T16:41:38.729244Z",
     "shell.execute_reply": "2022-12-08T16:41:38.728026Z"
    },
    "papermill": {
     "duration": 0.031504,
     "end_time": "2022-12-08T16:41:38.731787",
     "exception": false,
     "start_time": "2022-12-08T16:41:38.700283",
     "status": "completed"
    },
    "tags": []
   },
   "outputs": [
    {
     "data": {
      "text/plain": [
       "user4    725\n",
       "user6    674\n",
       "user1    673\n",
       "user9    571\n",
       "user7    526\n",
       "user3    518\n",
       "user2    456\n",
       "user5    335\n",
       "user8    225\n",
       "Name: name, dtype: int64"
      ]
     },
     "execution_count": 13,
     "metadata": {},
     "output_type": "execute_result"
    }
   ],
   "source": [
    "internet_usage.name.value_counts()"
   ]
  },
  {
   "cell_type": "code",
   "execution_count": 14,
   "id": "b5063809",
   "metadata": {
    "execution": {
     "iopub.execute_input": "2022-12-08T16:41:38.774117Z",
     "iopub.status.busy": "2022-12-08T16:41:38.773500Z",
     "iopub.status.idle": "2022-12-08T16:41:39.054143Z",
     "shell.execute_reply": "2022-12-08T16:41:39.052773Z"
    },
    "papermill": {
     "duration": 0.304876,
     "end_time": "2022-12-08T16:41:39.056772",
     "exception": false,
     "start_time": "2022-12-08T16:41:38.751896",
     "status": "completed"
    },
    "tags": []
   },
   "outputs": [
    {
     "data": {
      "image/png": "[encoded data removed]",
      "text/plain": [
       "<Figure size 1296x648 with 1 Axes>"
      ]
     },
     "metadata": {
      "needs_background": "light"
     },
     "output_type": "display_data"
    },
    {
     "data": {
      "text/plain": [
       "<Figure size 432x288 with 0 Axes>"
      ]
     },
     "metadata": {},
     "output_type": "display_data"
    }
   ],
   "source": [
    "plt.figure(figsize=(18, 9))\n",
    "ax = sns.countplot(x='name', data=internet_usage)\n",
    "ax.bar_label(ax.containers[0])\n",
    "plt.title(\"User Count\")\n",
    "plt.show()\n",
    "plt.clf()"
   ]
  },
  {
   "cell_type": "markdown",
   "id": "cc613047",
   "metadata": {
    "papermill": {
     "duration": 0.019983,
     "end_time": "2022-12-08T16:41:39.096949",
     "exception": false,
     "start_time": "2022-12-08T16:41:39.076966",
     "status": "completed"
    },
    "tags": []
   },
   "source": [
    "User4 is represented the most with a count of 725, while user8 was the least represented with a count of 225"
   ]
  },
  {
   "cell_type": "code",
   "execution_count": 15,
   "id": "0c398b38",
   "metadata": {
    "execution": {
     "iopub.execute_input": "2022-12-08T16:41:39.139471Z",
     "iopub.status.busy": "2022-12-08T16:41:39.138436Z",
     "iopub.status.idle": "2022-12-08T16:41:39.147007Z",
     "shell.execute_reply": "2022-12-08T16:41:39.145182Z"
    },
    "papermill": {
     "duration": 0.032406,
     "end_time": "2022-12-08T16:41:39.149676",
     "exception": false,
     "start_time": "2022-12-08T16:41:39.117270",
     "status": "completed"
    },
    "tags": []
   },
   "outputs": [
    {
     "name": "stdout",
     "output_type": "stream",
     "text": [
      "The earliest start time is:\n",
      "2022-05-09 22:52:41\n",
      "The latest start time is:\n",
      "2022-11-05 18:41:14\n"
     ]
    }
   ],
   "source": [
    "print('The earliest start time is:')\n",
    "print(internet_usage.start_time.min())\n",
    "print('The latest start time is:')\n",
    "print(internet_usage.start_time.max())"
   ]
  },
  {
   "cell_type": "code",
   "execution_count": 16,
   "id": "5bad887a",
   "metadata": {
    "execution": {
     "iopub.execute_input": "2022-12-08T16:41:39.198729Z",
     "iopub.status.busy": "2022-12-08T16:41:39.198052Z",
     "iopub.status.idle": "2022-12-08T16:41:39.206041Z",
     "shell.execute_reply": "2022-12-08T16:41:39.204797Z"
    },
    "papermill": {
     "duration": 0.036871,
     "end_time": "2022-12-08T16:41:39.208634",
     "exception": false,
     "start_time": "2022-12-08T16:41:39.171763",
     "status": "completed"
    },
    "tags": []
   },
   "outputs": [
    {
     "name": "stdout",
     "output_type": "stream",
     "text": [
      "The minimum usage time is:\n",
      "2022-12-18 00:00:01\n",
      "The maximum usage time is:\n",
      "2022-12-18 22:00:07\n",
      "The average usage time is:\n",
      "2022-12-18 02:10:05.038486016\n"
     ]
    }
   ],
   "source": [
    "print('The minimum usage time is:')\n",
    "print(internet_usage.usage_time.min())\n",
    "print('The maximum usage time is:')\n",
    "print(internet_usage.usage_time.max())\n",
    "print('The average usage time is:')\n",
    "print(internet_usage.usage_time.mean())"
   ]
  },
  {
   "cell_type": "code",
   "execution_count": 17,
   "id": "b1554b58",
   "metadata": {
    "execution": {
     "iopub.execute_input": "2022-12-08T16:41:39.266112Z",
     "iopub.status.busy": "2022-12-08T16:41:39.265409Z",
     "iopub.status.idle": "2022-12-08T16:41:39.279068Z",
     "shell.execute_reply": "2022-12-08T16:41:39.277954Z"
    },
    "papermill": {
     "duration": 0.04275,
     "end_time": "2022-12-08T16:41:39.282088",
     "exception": false,
     "start_time": "2022-12-08T16:41:39.239338",
     "status": "completed"
    },
    "tags": []
   },
   "outputs": [
    {
     "name": "stdout",
     "output_type": "stream",
     "text": [
      "The minimum usage time per user:\n"
     ]
    },
    {
     "data": {
      "text/plain": [
       "name\n",
       "user1   2022-12-18 00:00:18\n",
       "user2   2022-12-18 00:00:08\n",
       "user3   2022-12-18 00:00:01\n",
       "user4   2022-12-18 00:00:45\n",
       "user5   2022-12-18 00:01:07\n",
       "user6   2022-12-18 00:00:18\n",
       "user7   2022-12-18 00:00:20\n",
       "user8   2022-12-18 00:00:20\n",
       "user9   2022-12-18 00:00:09\n",
       "Name: usage_time, dtype: datetime64[ns]"
      ]
     },
     "execution_count": 17,
     "metadata": {},
     "output_type": "execute_result"
    }
   ],
   "source": [
    "print('The minimum usage time per user:')\n",
    "usage_time_minimum = internet_usage.groupby('name').usage_time.min()\n",
    "usage_time_minimum"
   ]
  },
  {
   "cell_type": "code",
   "execution_count": 18,
   "id": "4c162fdc",
   "metadata": {
    "execution": {
     "iopub.execute_input": "2022-12-08T16:41:39.326161Z",
     "iopub.status.busy": "2022-12-08T16:41:39.324762Z",
     "iopub.status.idle": "2022-12-08T16:41:39.793694Z",
     "shell.execute_reply": "2022-12-08T16:41:39.792364Z"
    },
    "papermill": {
     "duration": 0.493915,
     "end_time": "2022-12-08T16:41:39.796462",
     "exception": false,
     "start_time": "2022-12-08T16:41:39.302547",
     "status": "completed"
    },
    "tags": []
   },
   "outputs": [
    {
     "data": {
      "image/png": "[encoded data removed]",
      "text/plain": [
       "<Figure size 1296x648 with 1 Axes>"
      ]
     },
     "metadata": {
      "needs_background": "light"
     },
     "output_type": "display_data"
    },
    {
     "data": {
      "text/plain": [
       "<Figure size 432x288 with 0 Axes>"
      ]
     },
     "metadata": {},
     "output_type": "display_data"
    }
   ],
   "source": [
    "plt.figure(figsize=(18, 9))\n",
    "usage_time_minimum.plot(kind='bar', logy=True)\n",
    "plt.title(\"The minimum usage time per user\")\n",
    "plt.show()\n",
    "plt.clf()"
   ]
  },
  {
   "cell_type": "markdown",
   "id": "bae70b69",
   "metadata": {
    "papermill": {
     "duration": 0.020532,
     "end_time": "2022-12-08T16:41:39.837791",
     "exception": false,
     "start_time": "2022-12-08T16:41:39.817259",
     "status": "completed"
    },
    "tags": []
   },
   "source": [
    "User 3 has the leat amount of minimum usage with 1 second, while user 5 has the greatest with a minute and 7 seconds"
   ]
  },
  {
   "cell_type": "code",
   "execution_count": 19,
   "id": "5430225e",
   "metadata": {
    "execution": {
     "iopub.execute_input": "2022-12-08T16:41:39.882172Z",
     "iopub.status.busy": "2022-12-08T16:41:39.881754Z",
     "iopub.status.idle": "2022-12-08T16:41:39.894205Z",
     "shell.execute_reply": "2022-12-08T16:41:39.892392Z"
    },
    "papermill": {
     "duration": 0.037811,
     "end_time": "2022-12-08T16:41:39.896962",
     "exception": false,
     "start_time": "2022-12-08T16:41:39.859151",
     "status": "completed"
    },
    "tags": []
   },
   "outputs": [
    {
     "name": "stdout",
     "output_type": "stream",
     "text": [
      "The maximum usage time per user:\n"
     ]
    },
    {
     "data": {
      "text/plain": [
       "name\n",
       "user1   2022-12-18 19:35:11\n",
       "user2   2022-12-18 20:39:52\n",
       "user3   2022-12-18 17:01:28\n",
       "user4   2022-12-18 18:11:43\n",
       "user5   2022-12-18 06:36:11\n",
       "user6   2022-12-18 19:35:11\n",
       "user7   2022-12-18 22:00:07\n",
       "user8   2022-12-18 17:24:26\n",
       "user9   2022-12-18 19:26:09\n",
       "Name: usage_time, dtype: datetime64[ns]"
      ]
     },
     "execution_count": 19,
     "metadata": {},
     "output_type": "execute_result"
    }
   ],
   "source": [
    "print('The maximum usage time per user:')\n",
    "usage_time_maximum = internet_usage.groupby('name').usage_time.max()\n",
    "usage_time_maximum"
   ]
  },
  {
   "cell_type": "code",
   "execution_count": 20,
   "id": "25b0775e",
   "metadata": {
    "execution": {
     "iopub.execute_input": "2022-12-08T16:41:39.940956Z",
     "iopub.status.busy": "2022-12-08T16:41:39.940573Z",
     "iopub.status.idle": "2022-12-08T16:41:40.379022Z",
     "shell.execute_reply": "2022-12-08T16:41:40.377735Z"
    },
    "papermill": {
     "duration": 0.463552,
     "end_time": "2022-12-08T16:41:40.381685",
     "exception": false,
     "start_time": "2022-12-08T16:41:39.918133",
     "status": "completed"
    },
    "tags": []
   },
   "outputs": [
    {
     "data": {
      "image/png": "[encoded data removed]",
      "text/plain": [
       "<Figure size 1296x648 with 1 Axes>"
      ]
     },
     "metadata": {
      "needs_background": "light"
     },
     "output_type": "display_data"
    },
    {
     "data": {
      "text/plain": [
       "<Figure size 432x288 with 0 Axes>"
      ]
     },
     "metadata": {},
     "output_type": "display_data"
    }
   ],
   "source": [
    "plt.figure(figsize=(18, 9))\n",
    "usage_time_maximum.plot(kind='bar', logy=True)\n",
    "plt.title(\"The maximum usage time per user\")\n",
    "plt.show()\n",
    "plt.clf()"
   ]
  },
  {
   "cell_type": "markdown",
   "id": "7b634837",
   "metadata": {
    "papermill": {
     "duration": 0.021048,
     "end_time": "2022-12-08T16:41:40.423951",
     "exception": false,
     "start_time": "2022-12-08T16:41:40.402903",
     "status": "completed"
    },
    "tags": []
   },
   "source": [
    "user 7 has the greatest maximum time usage with 22 hours and 7 seconds, while user 5 has the least amount with only 6 hours 36 minutes and 11 seconds"
   ]
  },
  {
   "cell_type": "code",
   "execution_count": 21,
   "id": "df71159d",
   "metadata": {
    "execution": {
     "iopub.execute_input": "2022-12-08T16:41:40.469125Z",
     "iopub.status.busy": "2022-12-08T16:41:40.467870Z",
     "iopub.status.idle": "2022-12-08T16:41:40.480613Z",
     "shell.execute_reply": "2022-12-08T16:41:40.478846Z"
    },
    "papermill": {
     "duration": 0.037737,
     "end_time": "2022-12-08T16:41:40.482828",
     "exception": false,
     "start_time": "2022-12-08T16:41:40.445091",
     "status": "completed"
    },
    "tags": []
   },
   "outputs": [
    {
     "name": "stdout",
     "output_type": "stream",
     "text": [
      "The average usage time per user:\n"
     ]
    },
    {
     "data": {
      "text/plain": [
       "name\n",
       "user1   2022-12-18 01:42:47.665676032\n",
       "user2   2022-12-18 01:42:53.866227968\n",
       "user3   2022-12-18 02:19:42.019305216\n",
       "user4   2022-12-18 02:38:01.766896640\n",
       "user5   2022-12-18 01:20:11.701492736\n",
       "user6   2022-12-18 01:42:49.998516224\n",
       "user7   2022-12-18 02:17:45.053231872\n",
       "user8   2022-12-18 04:03:14.555555584\n",
       "user9   2022-12-18 02:29:32.180385280\n",
       "Name: usage_time, dtype: datetime64[ns]"
      ]
     },
     "execution_count": 21,
     "metadata": {},
     "output_type": "execute_result"
    }
   ],
   "source": [
    "print('The average usage time per user:')\n",
    "usage_time_average = internet_usage.groupby('name').usage_time.mean()\n",
    "usage_time_average"
   ]
  },
  {
   "cell_type": "code",
   "execution_count": 22,
   "id": "4016b7e0",
   "metadata": {
    "execution": {
     "iopub.execute_input": "2022-12-08T16:41:40.528864Z",
     "iopub.status.busy": "2022-12-08T16:41:40.527591Z",
     "iopub.status.idle": "2022-12-08T16:41:40.851862Z",
     "shell.execute_reply": "2022-12-08T16:41:40.850591Z"
    },
    "papermill": {
     "duration": 0.349198,
     "end_time": "2022-12-08T16:41:40.853948",
     "exception": false,
     "start_time": "2022-12-08T16:41:40.504750",
     "status": "completed"
    },
    "tags": []
   },
   "outputs": [
    {
     "data": {
      "image/png": "[encoded data removed]",
      "text/plain": [
       "<Figure size 1296x648 with 1 Axes>"
      ]
     },
     "metadata": {
      "needs_background": "light"
     },
     "output_type": "display_data"
    },
    {
     "data": {
      "text/plain": [
       "<Figure size 432x288 with 0 Axes>"
      ]
     },
     "metadata": {},
     "output_type": "display_data"
    }
   ],
   "source": [
    "plt.figure(figsize=(18, 9))\n",
    "usage_time_average.plot(kind='bar', logy=True)\n",
    "plt.title(\"The average usage time per user\")\n",
    "plt.show()\n",
    "plt.clf()"
   ]
  },
  {
   "cell_type": "markdown",
   "id": "8c397626",
   "metadata": {
    "papermill": {
     "duration": 0.022059,
     "end_time": "2022-12-08T16:41:40.898279",
     "exception": false,
     "start_time": "2022-12-08T16:41:40.876220",
     "status": "completed"
    },
    "tags": []
   },
   "source": [
    "We can see that on average, User 8 has the most usage with 4 hours 3 minutes and 14 seconds, while User 5 has the least amount of average time usage with one hour 20 minutes and 11 seconds"
   ]
  },
  {
   "cell_type": "code",
   "execution_count": 23,
   "id": "b3b9685a",
   "metadata": {
    "execution": {
     "iopub.execute_input": "2022-12-08T16:41:40.945538Z",
     "iopub.status.busy": "2022-12-08T16:41:40.945107Z",
     "iopub.status.idle": "2022-12-08T16:41:40.956940Z",
     "shell.execute_reply": "2022-12-08T16:41:40.955625Z"
    },
    "papermill": {
     "duration": 0.03904,
     "end_time": "2022-12-08T16:41:40.960222",
     "exception": false,
     "start_time": "2022-12-08T16:41:40.921182",
     "status": "completed"
    },
    "tags": []
   },
   "outputs": [
    {
     "data": {
      "text/plain": [
       "10.55.0.89      80\n",
       "10.55.14.148    64\n",
       "10.55.15.221    55\n",
       "10.55.1.50      48\n",
       "10.55.10.46     44\n",
       "                ..\n",
       "10.55.15.44      1\n",
       "10.55.15.237     1\n",
       "10.55.14.166     1\n",
       "10.55.3.200      1\n",
       "10.55.4.159      1\n",
       "Name: ip, Length: 1299, dtype: int64"
      ]
     },
     "execution_count": 23,
     "metadata": {},
     "output_type": "execute_result"
    }
   ],
   "source": [
    "internet_usage.ip.value_counts()"
   ]
  },
  {
   "cell_type": "markdown",
   "id": "ed0fa2f2",
   "metadata": {
    "papermill": {
     "duration": 0.022037,
     "end_time": "2022-12-08T16:41:41.004729",
     "exception": false,
     "start_time": "2022-12-08T16:41:40.982692",
     "status": "completed"
    },
    "tags": []
   },
   "source": [
    "The most used IP Address is 10:55:0:89"
   ]
  },
  {
   "cell_type": "code",
   "execution_count": 24,
   "id": "73a7fd25",
   "metadata": {
    "execution": {
     "iopub.execute_input": "2022-12-08T16:41:41.051669Z",
     "iopub.status.busy": "2022-12-08T16:41:41.050889Z",
     "iopub.status.idle": "2022-12-08T16:41:41.060956Z",
     "shell.execute_reply": "2022-12-08T16:41:41.059694Z"
    },
    "papermill": {
     "duration": 0.03694,
     "end_time": "2022-12-08T16:41:41.063845",
     "exception": false,
     "start_time": "2022-12-08T16:41:41.026905",
     "status": "completed"
    },
    "tags": []
   },
   "outputs": [
    {
     "data": {
      "text/plain": [
       "device1206    194\n",
       "device835     137\n",
       "device11      137\n",
       "device1212    132\n",
       "device312     113\n",
       "             ... \n",
       "device582       1\n",
       "device583       1\n",
       "device584       1\n",
       "device585       1\n",
       "device613       1\n",
       "Name: device, Length: 1224, dtype: int64"
      ]
     },
     "execution_count": 24,
     "metadata": {},
     "output_type": "execute_result"
    }
   ],
   "source": [
    "internet_usage.device.value_counts()"
   ]
  },
  {
   "cell_type": "markdown",
   "id": "de871705",
   "metadata": {
    "papermill": {
     "duration": 0.021754,
     "end_time": "2022-12-08T16:41:41.107890",
     "exception": false,
     "start_time": "2022-12-08T16:41:41.086136",
     "status": "completed"
    },
    "tags": []
   },
   "source": [
    "The most used device is device1206 with 194 times"
   ]
  },
  {
   "cell_type": "code",
   "execution_count": 25,
   "id": "dcebc86f",
   "metadata": {
    "execution": {
     "iopub.execute_input": "2022-12-08T16:41:41.155320Z",
     "iopub.status.busy": "2022-12-08T16:41:41.154632Z",
     "iopub.status.idle": "2022-12-08T16:41:41.162972Z",
     "shell.execute_reply": "2022-12-08T16:41:41.160877Z"
    },
    "papermill": {
     "duration": 0.035294,
     "end_time": "2022-12-08T16:41:41.166051",
     "exception": false,
     "start_time": "2022-12-08T16:41:41.130757",
     "status": "completed"
    },
    "tags": []
   },
   "outputs": [
    {
     "name": "stdout",
     "output_type": "stream",
     "text": [
      "The minimum upload is: 2.0Kb\n",
      "The maximum upload is: 2841640.0Kb\n",
      "The average upload is: 33787.02Kb\n"
     ]
    }
   ],
   "source": [
    "print('The minimum upload is: ' + str(internet_usage.upload.min()) + 'Kb')\n",
    "print('The maximum upload is: ' + str(internet_usage.upload.max()) + 'Kb')\n",
    "print('The average upload is: ' + str(round(internet_usage.upload.mean(), 2)) + 'Kb')"
   ]
  },
  {
   "cell_type": "markdown",
   "id": "4b755263",
   "metadata": {
    "papermill": {
     "duration": 0.022288,
     "end_time": "2022-12-08T16:41:41.211179",
     "exception": false,
     "start_time": "2022-12-08T16:41:41.188891",
     "status": "completed"
    },
    "tags": []
   },
   "source": [
    "Now let's check the minimum, maximum and average upload per user"
   ]
  },
  {
   "cell_type": "markdown",
   "id": "65fe3a70",
   "metadata": {
    "papermill": {
     "duration": 0.02246,
     "end_time": "2022-12-08T16:41:41.256159",
     "exception": false,
     "start_time": "2022-12-08T16:41:41.233699",
     "status": "completed"
    },
    "tags": []
   },
   "source": [
    "We will start with the minimum upload per user"
   ]
  },
  {
   "cell_type": "code",
   "execution_count": 26,
   "id": "c3c13523",
   "metadata": {
    "execution": {
     "iopub.execute_input": "2022-12-08T16:41:41.307411Z",
     "iopub.status.busy": "2022-12-08T16:41:41.305829Z",
     "iopub.status.idle": "2022-12-08T16:41:41.317939Z",
     "shell.execute_reply": "2022-12-08T16:41:41.316266Z"
    },
    "papermill": {
     "duration": 0.041629,
     "end_time": "2022-12-08T16:41:41.321240",
     "exception": false,
     "start_time": "2022-12-08T16:41:41.279611",
     "status": "completed"
    },
    "tags": []
   },
   "outputs": [
    {
     "name": "stdout",
     "output_type": "stream",
     "text": [
      "The minimum upload per user:\n"
     ]
    },
    {
     "data": {
      "text/plain": [
       "name\n",
       "user1     19.0\n",
       "user2     23.0\n",
       "user3     36.0\n",
       "user4     56.0\n",
       "user5    382.0\n",
       "user6     19.0\n",
       "user7      2.0\n",
       "user8      4.0\n",
       "user9     41.0\n",
       "Name: upload, dtype: float64"
      ]
     },
     "execution_count": 26,
     "metadata": {},
     "output_type": "execute_result"
    }
   ],
   "source": [
    "print('The minimum upload per user:')\n",
    "internet_usage.groupby('name').upload.min()"
   ]
  },
  {
   "cell_type": "code",
   "execution_count": 27,
   "id": "f19ebecb",
   "metadata": {
    "execution": {
     "iopub.execute_input": "2022-12-08T16:41:41.368947Z",
     "iopub.status.busy": "2022-12-08T16:41:41.368551Z",
     "iopub.status.idle": "2022-12-08T16:41:41.609590Z",
     "shell.execute_reply": "2022-12-08T16:41:41.607439Z"
    },
    "papermill": {
     "duration": 0.26816,
     "end_time": "2022-12-08T16:41:41.612427",
     "exception": false,
     "start_time": "2022-12-08T16:41:41.344267",
     "status": "completed"
    },
    "tags": []
   },
   "outputs": [
    {
     "data": {
      "image/png": "[encoded data removed]",
      "text/plain": [
       "<Figure size 1296x648 with 1 Axes>"
      ]
     },
     "metadata": {
      "needs_background": "light"
     },
     "output_type": "display_data"
    },
    {
     "data": {
      "text/plain": [
       "<Figure size 432x288 with 0 Axes>"
      ]
     },
     "metadata": {},
     "output_type": "display_data"
    }
   ],
   "source": [
    "plt.figure(figsize=(18, 9))\n",
    "ax = sns.barplot(x='name', y='upload' , data=internet_usage, ci=None, estimator=np.min)\n",
    "ax.bar_label(ax.containers[0])\n",
    "plt.title(\"Minimum upload per user\")\n",
    "plt.show()\n",
    "plt.clf()"
   ]
  },
  {
   "cell_type": "markdown",
   "id": "12af2897",
   "metadata": {
    "papermill": {
     "duration": 0.02206,
     "end_time": "2022-12-08T16:41:41.657509",
     "exception": false,
     "start_time": "2022-12-08T16:41:41.635449",
     "status": "completed"
    },
    "tags": []
   },
   "source": [
    "user 2 has the lowest minimum upload with 2Kb while user5 has the highest minimum upload with 382Kb"
   ]
  },
  {
   "cell_type": "markdown",
   "id": "4c8f68f8",
   "metadata": {
    "papermill": {
     "duration": 0.023039,
     "end_time": "2022-12-08T16:41:41.703729",
     "exception": false,
     "start_time": "2022-12-08T16:41:41.680690",
     "status": "completed"
    },
    "tags": []
   },
   "source": [
    "Now we check the maximum upload per user"
   ]
  },
  {
   "cell_type": "code",
   "execution_count": 28,
   "id": "2183fff1",
   "metadata": {
    "execution": {
     "iopub.execute_input": "2022-12-08T16:41:41.752891Z",
     "iopub.status.busy": "2022-12-08T16:41:41.752491Z",
     "iopub.status.idle": "2022-12-08T16:41:41.764987Z",
     "shell.execute_reply": "2022-12-08T16:41:41.763783Z"
    },
    "papermill": {
     "duration": 0.040253,
     "end_time": "2022-12-08T16:41:41.767188",
     "exception": false,
     "start_time": "2022-12-08T16:41:41.726935",
     "status": "completed"
    },
    "tags": []
   },
   "outputs": [
    {
     "name": "stdout",
     "output_type": "stream",
     "text": [
      "The maximum upload per user:\n"
     ]
    },
    {
     "data": {
      "text/plain": [
       "name\n",
       "user1     638566.0\n",
       "user2     379955.0\n",
       "user3    1625292.0\n",
       "user4     754462.0\n",
       "user5    2841640.0\n",
       "user6     638566.0\n",
       "user7     653731.0\n",
       "user8     709058.0\n",
       "user9    1352663.0\n",
       "Name: upload, dtype: float64"
      ]
     },
     "execution_count": 28,
     "metadata": {},
     "output_type": "execute_result"
    }
   ],
   "source": [
    "print('The maximum upload per user:')\n",
    "internet_usage.groupby('name').upload.max()"
   ]
  },
  {
   "cell_type": "code",
   "execution_count": 29,
   "id": "e9e368f7",
   "metadata": {
    "execution": {
     "iopub.execute_input": "2022-12-08T16:41:41.816838Z",
     "iopub.status.busy": "2022-12-08T16:41:41.816388Z",
     "iopub.status.idle": "2022-12-08T16:41:42.075451Z",
     "shell.execute_reply": "2022-12-08T16:41:42.073770Z"
    },
    "papermill": {
     "duration": 0.287019,
     "end_time": "2022-12-08T16:41:42.078072",
     "exception": false,
     "start_time": "2022-12-08T16:41:41.791053",
     "status": "completed"
    },
    "tags": []
   },
   "outputs": [
    {
     "data": {
      "image/png": "[encoded data removed]",
      "text/plain": [
       "<Figure size 1296x648 with 1 Axes>"
      ]
     },
     "metadata": {
      "needs_background": "light"
     },
     "output_type": "display_data"
    },
    {
     "data": {
      "text/plain": [
       "<Figure size 432x288 with 0 Axes>"
      ]
     },
     "metadata": {},
     "output_type": "display_data"
    }
   ],
   "source": [
    "plt.figure(figsize=(18, 9))\n",
    "ax = sns.barplot(x='name', y='upload' , data=internet_usage, ci=None, estimator=np.max)\n",
    "ax.bar_label(ax.containers[0])\n",
    "plt.title(\"Maximum upload per user\")\n",
    "plt.show()\n",
    "plt.clf()"
   ]
  },
  {
   "cell_type": "markdown",
   "id": "48463a5a",
   "metadata": {
    "papermill": {
     "duration": 0.023268,
     "end_time": "2022-12-08T16:41:42.125502",
     "exception": false,
     "start_time": "2022-12-08T16:41:42.102234",
     "status": "completed"
    },
    "tags": []
   },
   "source": [
    "User 5 has the highest maximum upload with 2841640Kb with user 2 having the lowest of maximum upload with 379955Kb"
   ]
  },
  {
   "cell_type": "markdown",
   "id": "87ba78e1",
   "metadata": {
    "papermill": {
     "duration": 0.025856,
     "end_time": "2022-12-08T16:41:42.176933",
     "exception": false,
     "start_time": "2022-12-08T16:41:42.151077",
     "status": "completed"
    },
    "tags": []
   },
   "source": [
    "We will check the average upload per user"
   ]
  },
  {
   "cell_type": "code",
   "execution_count": 30,
   "id": "8f16e388",
   "metadata": {
    "execution": {
     "iopub.execute_input": "2022-12-08T16:41:42.225471Z",
     "iopub.status.busy": "2022-12-08T16:41:42.225043Z",
     "iopub.status.idle": "2022-12-08T16:41:42.238568Z",
     "shell.execute_reply": "2022-12-08T16:41:42.237042Z"
    },
    "papermill": {
     "duration": 0.041697,
     "end_time": "2022-12-08T16:41:42.241791",
     "exception": false,
     "start_time": "2022-12-08T16:41:42.200094",
     "status": "completed"
    },
    "tags": []
   },
   "outputs": [
    {
     "name": "stdout",
     "output_type": "stream",
     "text": [
      "The average upload per user:\n"
     ]
    },
    {
     "data": {
      "text/plain": [
       "name\n",
       "user1    27291.34\n",
       "user2    29188.79\n",
       "user3    29594.88\n",
       "user4    33783.74\n",
       "user5    64500.35\n",
       "user6    27700.73\n",
       "user7    23075.54\n",
       "user8    59190.12\n",
       "user9    37944.66\n",
       "Name: upload, dtype: float64"
      ]
     },
     "execution_count": 30,
     "metadata": {},
     "output_type": "execute_result"
    }
   ],
   "source": [
    "print('The average upload per user:')\n",
    "round(internet_usage.groupby('name').upload.mean(), 2)"
   ]
  },
  {
   "cell_type": "code",
   "execution_count": 31,
   "id": "929b6549",
   "metadata": {
    "execution": {
     "iopub.execute_input": "2022-12-08T16:41:42.291879Z",
     "iopub.status.busy": "2022-12-08T16:41:42.291090Z",
     "iopub.status.idle": "2022-12-08T16:41:42.524868Z",
     "shell.execute_reply": "2022-12-08T16:41:42.523488Z"
    },
    "papermill": {
     "duration": 0.261006,
     "end_time": "2022-12-08T16:41:42.527164",
     "exception": false,
     "start_time": "2022-12-08T16:41:42.266158",
     "status": "completed"
    },
    "tags": []
   },
   "outputs": [
    {
     "data": {
      "image/png": "[encoded data removed]",
      "text/plain": [
       "<Figure size 1296x648 with 1 Axes>"
      ]
     },
     "metadata": {
      "needs_background": "light"
     },
     "output_type": "display_data"
    },
    {
     "data": {
      "text/plain": [
       "<Figure size 432x288 with 0 Axes>"
      ]
     },
     "metadata": {},
     "output_type": "display_data"
    }
   ],
   "source": [
    "plt.figure(figsize=(18, 9))\n",
    "ax = sns.barplot(x='name', y='upload' , data=internet_usage, ci=None, estimator=np.mean)\n",
    "ax.bar_label(ax.containers[0])\n",
    "plt.title(\"Average upload per user\")\n",
    "plt.show()\n",
    "plt.clf()"
   ]
  },
  {
   "cell_type": "markdown",
   "id": "c0d9ad53",
   "metadata": {
    "papermill": {
     "duration": 0.025763,
     "end_time": "2022-12-08T16:41:42.577907",
     "exception": false,
     "start_time": "2022-12-08T16:41:42.552144",
     "status": "completed"
    },
    "tags": []
   },
   "source": [
    "User5 has the highest average upload with 64500.35Kb while User 7 has the lower average with 23075.54Kb"
   ]
  },
  {
   "cell_type": "markdown",
   "id": "d76855c9",
   "metadata": {
    "papermill": {
     "duration": 0.024161,
     "end_time": "2022-12-08T16:41:42.626113",
     "exception": false,
     "start_time": "2022-12-08T16:41:42.601952",
     "status": "completed"
    },
    "tags": []
   },
   "source": [
    "Now we will do the same but with the download, so calculating minimum, maximum and average total, and after that per user"
   ]
  },
  {
   "cell_type": "code",
   "execution_count": 32,
   "id": "2c7e0608",
   "metadata": {
    "execution": {
     "iopub.execute_input": "2022-12-08T16:41:42.675912Z",
     "iopub.status.busy": "2022-12-08T16:41:42.675483Z",
     "iopub.status.idle": "2022-12-08T16:41:42.684296Z",
     "shell.execute_reply": "2022-12-08T16:41:42.682277Z"
    },
    "papermill": {
     "duration": 0.037744,
     "end_time": "2022-12-08T16:41:42.687679",
     "exception": false,
     "start_time": "2022-12-08T16:41:42.649935",
     "status": "completed"
    },
    "tags": []
   },
   "outputs": [
    {
     "name": "stdout",
     "output_type": "stream",
     "text": [
      "The minimum download is: 9.0Kb\n",
      "The maximum download is: 27902607.0Kb\n",
      "The average download is: 396664.52Kb\n"
     ]
    }
   ],
   "source": [
    "print('The minimum download is: ' + str(internet_usage.download.min()) + 'Kb')\n",
    "print('The maximum download is: ' + str(internet_usage.download.max()) + 'Kb')\n",
    "print('The average download is: ' + str(round(internet_usage.download.mean(), 2)) + 'Kb')"
   ]
  },
  {
   "cell_type": "markdown",
   "id": "c2a84579",
   "metadata": {
    "papermill": {
     "duration": 0.02374,
     "end_time": "2022-12-08T16:41:42.735725",
     "exception": false,
     "start_time": "2022-12-08T16:41:42.711985",
     "status": "completed"
    },
    "tags": []
   },
   "source": [
    "Now per the download per user"
   ]
  },
  {
   "cell_type": "code",
   "execution_count": 33,
   "id": "3bd84a52",
   "metadata": {
    "execution": {
     "iopub.execute_input": "2022-12-08T16:41:42.784720Z",
     "iopub.status.busy": "2022-12-08T16:41:42.784290Z",
     "iopub.status.idle": "2022-12-08T16:41:42.795855Z",
     "shell.execute_reply": "2022-12-08T16:41:42.794734Z"
    },
    "papermill": {
     "duration": 0.039091,
     "end_time": "2022-12-08T16:41:42.798001",
     "exception": false,
     "start_time": "2022-12-08T16:41:42.758910",
     "status": "completed"
    },
    "tags": []
   },
   "outputs": [
    {
     "name": "stdout",
     "output_type": "stream",
     "text": [
      "The minimum download per user:\n"
     ]
    },
    {
     "data": {
      "text/plain": [
       "name\n",
       "user1     50.0\n",
       "user2     49.0\n",
       "user3     60.0\n",
       "user4     12.0\n",
       "user5    461.0\n",
       "user6     50.0\n",
       "user7      9.0\n",
       "user8     13.0\n",
       "user9     61.0\n",
       "Name: download, dtype: float64"
      ]
     },
     "execution_count": 33,
     "metadata": {},
     "output_type": "execute_result"
    }
   ],
   "source": [
    "print('The minimum download per user:')\n",
    "internet_usage.groupby('name').download.min()"
   ]
  },
  {
   "cell_type": "code",
   "execution_count": 34,
   "id": "911337f7",
   "metadata": {
    "execution": {
     "iopub.execute_input": "2022-12-08T16:41:42.848952Z",
     "iopub.status.busy": "2022-12-08T16:41:42.848551Z",
     "iopub.status.idle": "2022-12-08T16:41:43.075072Z",
     "shell.execute_reply": "2022-12-08T16:41:43.074415Z"
    },
    "papermill": {
     "duration": 0.254089,
     "end_time": "2022-12-08T16:41:43.076847",
     "exception": false,
     "start_time": "2022-12-08T16:41:42.822758",
     "status": "completed"
    },
    "tags": []
   },
   "outputs": [
    {
     "data": {
      "image/png": "[encoded data removed]",
      "text/plain": [
       "<Figure size 1296x648 with 1 Axes>"
      ]
     },
     "metadata": {
      "needs_background": "light"
     },
     "output_type": "display_data"
    },
    {
     "data": {
      "text/plain": [
       "<Figure size 432x288 with 0 Axes>"
      ]
     },
     "metadata": {},
     "output_type": "display_data"
    }
   ],
   "source": [
    "plt.figure(figsize=(18, 9))\n",
    "ax = sns.barplot(x='name', y='download' , data=internet_usage, ci=None, estimator=np.min)\n",
    "ax.bar_label(ax.containers[0])\n",
    "plt.title(\"Minimum download per user\")\n",
    "plt.show()\n",
    "plt.clf()"
   ]
  },
  {
   "cell_type": "markdown",
   "id": "7d2cb748",
   "metadata": {
    "papermill": {
     "duration": 0.024148,
     "end_time": "2022-12-08T16:41:43.125777",
     "exception": false,
     "start_time": "2022-12-08T16:41:43.101629",
     "status": "completed"
    },
    "tags": []
   },
   "source": [
    "User 5 has the highest minimum download with 461Kb while User 7 has the lowest with 9Kb"
   ]
  },
  {
   "cell_type": "code",
   "execution_count": 35,
   "id": "3710a5b1",
   "metadata": {
    "execution": {
     "iopub.execute_input": "2022-12-08T16:41:43.179337Z",
     "iopub.status.busy": "2022-12-08T16:41:43.178237Z",
     "iopub.status.idle": "2022-12-08T16:41:43.189407Z",
     "shell.execute_reply": "2022-12-08T16:41:43.187608Z"
    },
    "papermill": {
     "duration": 0.041766,
     "end_time": "2022-12-08T16:41:43.192689",
     "exception": false,
     "start_time": "2022-12-08T16:41:43.150923",
     "status": "completed"
    },
    "tags": []
   },
   "outputs": [
    {
     "name": "stdout",
     "output_type": "stream",
     "text": [
      "The maximum download per user:\n"
     ]
    },
    {
     "data": {
      "text/plain": [
       "name\n",
       "user1    23760732.0\n",
       "user2    21831352.0\n",
       "user3     3145728.0\n",
       "user4     8325693.0\n",
       "user5     5033164.0\n",
       "user6    23760732.0\n",
       "user7    27902607.0\n",
       "user8     2747269.0\n",
       "user9     6008340.0\n",
       "Name: download, dtype: float64"
      ]
     },
     "execution_count": 35,
     "metadata": {},
     "output_type": "execute_result"
    }
   ],
   "source": [
    "print('The maximum download per user:')\n",
    "internet_usage.groupby('name').download.max()"
   ]
  },
  {
   "cell_type": "code",
   "execution_count": 36,
   "id": "cc5cd1a2",
   "metadata": {
    "execution": {
     "iopub.execute_input": "2022-12-08T16:41:43.245243Z",
     "iopub.status.busy": "2022-12-08T16:41:43.244843Z",
     "iopub.status.idle": "2022-12-08T16:41:43.477223Z",
     "shell.execute_reply": "2022-12-08T16:41:43.476214Z"
    },
    "papermill": {
     "duration": 0.262,
     "end_time": "2022-12-08T16:41:43.480015",
     "exception": false,
     "start_time": "2022-12-08T16:41:43.218015",
     "status": "completed"
    },
    "tags": []
   },
   "outputs": [
    {
     "data": {
      "image/png": "[encoded data removed]",
      "text/plain": [
       "<Figure size 1296x648 with 1 Axes>"
      ]
     },
     "metadata": {
      "needs_background": "light"
     },
     "output_type": "display_data"
    },
    {
     "data": {
      "text/plain": [
       "<Figure size 432x288 with 0 Axes>"
      ]
     },
     "metadata": {},
     "output_type": "display_data"
    }
   ],
   "source": [
    "plt.figure(figsize=(18, 9))\n",
    "ax = sns.barplot(x='name', y='download' , data=internet_usage, ci=None, estimator=np.max)\n",
    "ax.bar_label(ax.containers[0])\n",
    "plt.title(\"Maximum download per user\")\n",
    "plt.show()\n",
    "plt.clf()"
   ]
  },
  {
   "cell_type": "markdown",
   "id": "b49815a4",
   "metadata": {
    "papermill": {
     "duration": 0.025486,
     "end_time": "2022-12-08T16:41:43.530739",
     "exception": false,
     "start_time": "2022-12-08T16:41:43.505253",
     "status": "completed"
    },
    "tags": []
   },
   "source": [
    "User 7 has the highest maximum download with 27902607Kb while user 8 has the lowest with 2747269Kb"
   ]
  },
  {
   "cell_type": "code",
   "execution_count": 37,
   "id": "27166ab1",
   "metadata": {
    "execution": {
     "iopub.execute_input": "2022-12-08T16:41:43.584132Z",
     "iopub.status.busy": "2022-12-08T16:41:43.583530Z",
     "iopub.status.idle": "2022-12-08T16:41:43.593868Z",
     "shell.execute_reply": "2022-12-08T16:41:43.592131Z"
    },
    "papermill": {
     "duration": 0.040794,
     "end_time": "2022-12-08T16:41:43.597304",
     "exception": false,
     "start_time": "2022-12-08T16:41:43.556510",
     "status": "completed"
    },
    "tags": []
   },
   "outputs": [
    {
     "name": "stdout",
     "output_type": "stream",
     "text": [
      "The average download per user:\n"
     ]
    },
    {
     "data": {
      "text/plain": [
       "name\n",
       "user1    270725.96\n",
       "user2    573798.02\n",
       "user3    342230.37\n",
       "user4    408580.26\n",
       "user5    357278.08\n",
       "user6    270545.18\n",
       "user7    453828.61\n",
       "user8    341417.12\n",
       "user9    578981.51\n",
       "Name: download, dtype: float64"
      ]
     },
     "execution_count": 37,
     "metadata": {},
     "output_type": "execute_result"
    }
   ],
   "source": [
    "print('The average download per user:')\n",
    "round(internet_usage.groupby('name').download.mean(), 2)"
   ]
  },
  {
   "cell_type": "code",
   "execution_count": 38,
   "id": "3f9b5429",
   "metadata": {
    "execution": {
     "iopub.execute_input": "2022-12-08T16:41:43.652074Z",
     "iopub.status.busy": "2022-12-08T16:41:43.651619Z",
     "iopub.status.idle": "2022-12-08T16:41:44.084842Z",
     "shell.execute_reply": "2022-12-08T16:41:44.082975Z"
    },
    "papermill": {
     "duration": 0.464541,
     "end_time": "2022-12-08T16:41:44.088772",
     "exception": false,
     "start_time": "2022-12-08T16:41:43.624231",
     "status": "completed"
    },
    "tags": []
   },
   "outputs": [
    {
     "data": {
      "image/png": "[encoded data removed]",
      "text/plain": [
       "<Figure size 1296x648 with 1 Axes>"
      ]
     },
     "metadata": {
      "needs_background": "light"
     },
     "output_type": "display_data"
    },
    {
     "data": {
      "text/plain": [
       "<Figure size 432x288 with 0 Axes>"
      ]
     },
     "metadata": {},
     "output_type": "display_data"
    }
   ],
   "source": [
    "plt.figure(figsize=(18, 9))\n",
    "ax = sns.barplot(x='name', y='download' , data=internet_usage, ci=None, estimator=np.mean)\n",
    "ax.bar_label(ax.containers[0])\n",
    "plt.title(\"Average download per user\")\n",
    "plt.show()\n",
    "plt.clf()"
   ]
  },
  {
   "cell_type": "markdown",
   "id": "7b74de3b",
   "metadata": {
    "papermill": {
     "duration": 0.025257,
     "end_time": "2022-12-08T16:41:44.139995",
     "exception": false,
     "start_time": "2022-12-08T16:41:44.114738",
     "status": "completed"
    },
    "tags": []
   },
   "source": [
    "User 9 has the highest average download with 578982.51Kb while user 6 has the lowest with 270545.18Kb"
   ]
  },
  {
   "cell_type": "markdown",
   "id": "eed8f628",
   "metadata": {
    "papermill": {
     "duration": 0.025535,
     "end_time": "2022-12-08T16:41:44.193634",
     "exception": false,
     "start_time": "2022-12-08T16:41:44.168099",
     "status": "completed"
    },
    "tags": []
   },
   "source": [
    "We will repeat all that with the total transfer column, minimum, maximum and average and than doing the same with each user"
   ]
  },
  {
   "cell_type": "code",
   "execution_count": 39,
   "id": "eca82d60",
   "metadata": {
    "execution": {
     "iopub.execute_input": "2022-12-08T16:41:44.246882Z",
     "iopub.status.busy": "2022-12-08T16:41:44.246446Z",
     "iopub.status.idle": "2022-12-08T16:41:44.255488Z",
     "shell.execute_reply": "2022-12-08T16:41:44.253674Z"
    },
    "papermill": {
     "duration": 0.039201,
     "end_time": "2022-12-08T16:41:44.258426",
     "exception": false,
     "start_time": "2022-12-08T16:41:44.219225",
     "status": "completed"
    },
    "tags": []
   },
   "outputs": [
    {
     "name": "stdout",
     "output_type": "stream",
     "text": [
      "The minimum total transfer is: 1.12Kb\n",
      "The maximum total transfer is: 28552724.48Kb\n",
      "The average total transfer is: 430437.21Kb\n"
     ]
    }
   ],
   "source": [
    "print('The minimum total transfer is: ' + str(internet_usage.total_transfer.min()) + 'Kb')\n",
    "print('The maximum total transfer is: ' + str(internet_usage.total_transfer.max()) + 'Kb')\n",
    "print('The average total transfer is: ' + str(round(internet_usage.total_transfer.mean(), 2)) + 'Kb')"
   ]
  },
  {
   "cell_type": "code",
   "execution_count": 40,
   "id": "7a41d845",
   "metadata": {
    "execution": {
     "iopub.execute_input": "2022-12-08T16:41:44.312604Z",
     "iopub.status.busy": "2022-12-08T16:41:44.312179Z",
     "iopub.status.idle": "2022-12-08T16:41:44.324778Z",
     "shell.execute_reply": "2022-12-08T16:41:44.323458Z"
    },
    "papermill": {
     "duration": 0.042263,
     "end_time": "2022-12-08T16:41:44.326885",
     "exception": false,
     "start_time": "2022-12-08T16:41:44.284622",
     "status": "completed"
    },
    "tags": []
   },
   "outputs": [
    {
     "name": "stdout",
     "output_type": "stream",
     "text": [
      "The minimum total transfer per user:\n"
     ]
    },
    {
     "data": {
      "text/plain": [
       "name\n",
       "user1     75.34\n",
       "user2     73.13\n",
       "user3      1.12\n",
       "user4     13.45\n",
       "user5    924.40\n",
       "user6     75.34\n",
       "user7     15.25\n",
       "user8     18.08\n",
       "user9    102.64\n",
       "Name: total_transfer, dtype: float64"
      ]
     },
     "execution_count": 40,
     "metadata": {},
     "output_type": "execute_result"
    }
   ],
   "source": [
    "print('The minimum total transfer per user:')\n",
    "internet_usage.groupby('name').total_transfer.min()"
   ]
  },
  {
   "cell_type": "code",
   "execution_count": 41,
   "id": "6b503fea",
   "metadata": {
    "execution": {
     "iopub.execute_input": "2022-12-08T16:41:44.381534Z",
     "iopub.status.busy": "2022-12-08T16:41:44.381095Z",
     "iopub.status.idle": "2022-12-08T16:41:44.611578Z",
     "shell.execute_reply": "2022-12-08T16:41:44.610620Z"
    },
    "papermill": {
     "duration": 0.260058,
     "end_time": "2022-12-08T16:41:44.613517",
     "exception": false,
     "start_time": "2022-12-08T16:41:44.353459",
     "status": "completed"
    },
    "tags": []
   },
   "outputs": [
    {
     "data": {
      "image/png": "[encoded data removed]",
      "text/plain": [
       "<Figure size 1296x648 with 1 Axes>"
      ]
     },
     "metadata": {
      "needs_background": "light"
     },
     "output_type": "display_data"
    },
    {
     "data": {
      "text/plain": [
       "<Figure size 432x288 with 0 Axes>"
      ]
     },
     "metadata": {},
     "output_type": "display_data"
    }
   ],
   "source": [
    "plt.figure(figsize=(18, 9))\n",
    "ax = sns.barplot(x='name', y='total_transfer' , data=internet_usage, ci=None, estimator=np.min)\n",
    "ax.bar_label(ax.containers[0])\n",
    "plt.title(\"Minimum total transfer per user\")\n",
    "plt.show()\n",
    "plt.clf()"
   ]
  },
  {
   "cell_type": "markdown",
   "id": "dd43a2bb",
   "metadata": {
    "papermill": {
     "duration": 0.026058,
     "end_time": "2022-12-08T16:41:44.665633",
     "exception": false,
     "start_time": "2022-12-08T16:41:44.639575",
     "status": "completed"
    },
    "tags": []
   },
   "source": [
    "User 5 has the highest minimum total transfer with 924.4Kb while user 3 has the lowest with 1.12Kb"
   ]
  },
  {
   "cell_type": "code",
   "execution_count": 42,
   "id": "409d45d2",
   "metadata": {
    "execution": {
     "iopub.execute_input": "2022-12-08T16:41:44.721907Z",
     "iopub.status.busy": "2022-12-08T16:41:44.720065Z",
     "iopub.status.idle": "2022-12-08T16:41:44.732623Z",
     "shell.execute_reply": "2022-12-08T16:41:44.731200Z"
    },
    "papermill": {
     "duration": 0.042887,
     "end_time": "2022-12-08T16:41:44.735008",
     "exception": false,
     "start_time": "2022-12-08T16:41:44.692121",
     "status": "completed"
    },
    "tags": []
   },
   "outputs": [
    {
     "name": "stdout",
     "output_type": "stream",
     "text": [
      "The maximum total transfer per user:\n"
     ]
    },
    {
     "data": {
      "text/plain": [
       "name\n",
       "user1    24389877.76\n",
       "user2    22051553.28\n",
       "user3     3282042.88\n",
       "user4     8524922.88\n",
       "user5     5158993.92\n",
       "user6    24389877.76\n",
       "user7    28552724.48\n",
       "user8     3166699.52\n",
       "user9     6155141.12\n",
       "Name: total_transfer, dtype: float64"
      ]
     },
     "execution_count": 42,
     "metadata": {},
     "output_type": "execute_result"
    }
   ],
   "source": [
    "print('The maximum total transfer per user:')\n",
    "internet_usage.groupby('name').total_transfer.max()"
   ]
  },
  {
   "cell_type": "code",
   "execution_count": 43,
   "id": "9a07be52",
   "metadata": {
    "execution": {
     "iopub.execute_input": "2022-12-08T16:41:44.791426Z",
     "iopub.status.busy": "2022-12-08T16:41:44.790015Z",
     "iopub.status.idle": "2022-12-08T16:41:45.017584Z",
     "shell.execute_reply": "2022-12-08T16:41:45.016551Z"
    },
    "papermill": {
     "duration": 0.258231,
     "end_time": "2022-12-08T16:41:45.020161",
     "exception": false,
     "start_time": "2022-12-08T16:41:44.761930",
     "status": "completed"
    },
    "tags": []
   },
   "outputs": [
    {
     "data": {
      "image/png": "[encoded data removed]",
      "text/plain": [
       "<Figure size 1296x648 with 1 Axes>"
      ]
     },
     "metadata": {
      "needs_background": "light"
     },
     "output_type": "display_data"
    },
    {
     "data": {
      "text/plain": [
       "<Figure size 432x288 with 0 Axes>"
      ]
     },
     "metadata": {},
     "output_type": "display_data"
    }
   ],
   "source": [
    "plt.figure(figsize=(18, 9))\n",
    "ax = sns.barplot(x='name', y='total_transfer' , data=internet_usage, ci=None, estimator=np.max)\n",
    "ax.bar_label(ax.containers[0])\n",
    "plt.title(\"Maximum total transfer per user\")\n",
    "plt.show()\n",
    "plt.clf()"
   ]
  },
  {
   "cell_type": "markdown",
   "id": "d5dcc160",
   "metadata": {
    "papermill": {
     "duration": 0.027331,
     "end_time": "2022-12-08T16:41:45.076737",
     "exception": false,
     "start_time": "2022-12-08T16:41:45.049406",
     "status": "completed"
    },
    "tags": []
   },
   "source": [
    "User 7 has the highest maximum total transfer with 28552724.48Kb while user 8 has the lowest with 3166699.52Kb"
   ]
  },
  {
   "cell_type": "code",
   "execution_count": 44,
   "id": "054ae7f9",
   "metadata": {
    "execution": {
     "iopub.execute_input": "2022-12-08T16:41:45.134083Z",
     "iopub.status.busy": "2022-12-08T16:41:45.133638Z",
     "iopub.status.idle": "2022-12-08T16:41:45.145651Z",
     "shell.execute_reply": "2022-12-08T16:41:45.143013Z"
    },
    "papermill": {
     "duration": 0.044667,
     "end_time": "2022-12-08T16:41:45.148798",
     "exception": false,
     "start_time": "2022-12-08T16:41:45.104131",
     "status": "completed"
    },
    "tags": []
   },
   "outputs": [
    {
     "name": "stdout",
     "output_type": "stream",
     "text": [
      "The average total transfer per user:\n"
     ]
    },
    {
     "data": {
      "text/plain": [
       "name\n",
       "user1    297971.21\n",
       "user2    602904.19\n",
       "user3    371826.53\n",
       "user4    442413.51\n",
       "user5    421772.04\n",
       "user6    298199.88\n",
       "user7    476923.04\n",
       "user8    400682.28\n",
       "user9    616875.57\n",
       "Name: total_transfer, dtype: float64"
      ]
     },
     "execution_count": 44,
     "metadata": {},
     "output_type": "execute_result"
    }
   ],
   "source": [
    "print('The average total transfer per user:')\n",
    "round(internet_usage.groupby('name').total_transfer.mean(), 2)"
   ]
  },
  {
   "cell_type": "code",
   "execution_count": 45,
   "id": "593ef622",
   "metadata": {
    "execution": {
     "iopub.execute_input": "2022-12-08T16:41:45.207203Z",
     "iopub.status.busy": "2022-12-08T16:41:45.206809Z",
     "iopub.status.idle": "2022-12-08T16:41:45.446913Z",
     "shell.execute_reply": "2022-12-08T16:41:45.445457Z"
    },
    "papermill": {
     "duration": 0.271155,
     "end_time": "2022-12-08T16:41:45.449187",
     "exception": false,
     "start_time": "2022-12-08T16:41:45.178032",
     "status": "completed"
    },
    "tags": []
   },
   "outputs": [
    {
     "data": {
      "image/png": "[encoded data removed]",
      "text/plain": [
       "<Figure size 1296x648 with 1 Axes>"
      ]
     },
     "metadata": {
      "needs_background": "light"
     },
     "output_type": "display_data"
    },
    {
     "data": {
      "text/plain": [
       "<Figure size 432x288 with 0 Axes>"
      ]
     },
     "metadata": {},
     "output_type": "display_data"
    }
   ],
   "source": [
    "plt.figure(figsize=(18, 9))\n",
    "ax = sns.barplot(x='name', y='total_transfer' , data=internet_usage, ci=None, estimator=np.mean)\n",
    "ax.bar_label(ax.containers[0])\n",
    "plt.title(\"Average total transfer per user\")\n",
    "plt.show()\n",
    "plt.clf()"
   ]
  },
  {
   "cell_type": "markdown",
   "id": "1c93c3f1",
   "metadata": {
    "papermill": {
     "duration": 0.027922,
     "end_time": "2022-12-08T16:41:45.505615",
     "exception": false,
     "start_time": "2022-12-08T16:41:45.477693",
     "status": "completed"
    },
    "tags": []
   },
   "source": [
    "User 9 has the highest average total transfer with 616875.57Kb while user 1 has the lowest with 297971.21Kb"
   ]
  },
  {
   "cell_type": "code",
   "execution_count": 46,
   "id": "b8f74989",
   "metadata": {
    "execution": {
     "iopub.execute_input": "2022-12-08T16:41:45.563802Z",
     "iopub.status.busy": "2022-12-08T16:41:45.562901Z",
     "iopub.status.idle": "2022-12-08T16:41:45.572396Z",
     "shell.execute_reply": "2022-12-08T16:41:45.570935Z"
    },
    "papermill": {
     "duration": 0.04087,
     "end_time": "2022-12-08T16:41:45.574454",
     "exception": false,
     "start_time": "2022-12-08T16:41:45.533584",
     "status": "completed"
    },
    "tags": []
   },
   "outputs": [
    {
     "data": {
      "text/plain": [
       "Idle-Timeout    4350\n",
       "Lost-Carrier     162\n",
       "Lost-Service     124\n",
       "User-Request      65\n",
       "NAS-Reboot         2\n",
       "Name: seession_break_reason, dtype: int64"
      ]
     },
     "execution_count": 46,
     "metadata": {},
     "output_type": "execute_result"
    }
   ],
   "source": [
    "internet_usage.seession_break_reason.value_counts()"
   ]
  },
  {
   "cell_type": "code",
   "execution_count": 47,
   "id": "c63f4280",
   "metadata": {
    "execution": {
     "iopub.execute_input": "2022-12-08T16:41:45.632552Z",
     "iopub.status.busy": "2022-12-08T16:41:45.631847Z",
     "iopub.status.idle": "2022-12-08T16:41:45.815472Z",
     "shell.execute_reply": "2022-12-08T16:41:45.814488Z"
    },
    "papermill": {
     "duration": 0.21532,
     "end_time": "2022-12-08T16:41:45.817771",
     "exception": false,
     "start_time": "2022-12-08T16:41:45.602451",
     "status": "completed"
    },
    "scrolled": true,
    "tags": []
   },
   "outputs": [
    {
     "data": {
      "image/png": "[encoded data removed]",
      "text/plain": [
       "<Figure size 1296x648 with 1 Axes>"
      ]
     },
     "metadata": {
      "needs_background": "light"
     },
     "output_type": "display_data"
    },
    {
     "data": {
      "text/plain": [
       "<Figure size 432x288 with 0 Axes>"
      ]
     },
     "metadata": {},
     "output_type": "display_data"
    }
   ],
   "source": [
    "plt.figure(figsize=(18, 9))\n",
    "ax = sns.countplot(x='seession_break_reason' , data=internet_usage)\n",
    "ax.bar_label(ax.containers[0])\n",
    "plt.title(\"Session break reason Count\")\n",
    "plt.show()\n",
    "plt.clf()"
   ]
  },
  {
   "cell_type": "markdown",
   "id": "9176d6bf",
   "metadata": {
    "papermill": {
     "duration": 0.027658,
     "end_time": "2022-12-08T16:41:45.873497",
     "exception": false,
     "start_time": "2022-12-08T16:41:45.845839",
     "status": "completed"
    },
    "tags": []
   },
   "source": [
    "The majority of the session break reasons were from \"Idle-Timeout\" with 4350 times, while the other reasons have very low occurrences in comparison, with \"NAS-Reboot\" having the lowest with only 2 occurrences"
   ]
  },
  {
   "cell_type": "code",
   "execution_count": 48,
   "id": "99e4dc92",
   "metadata": {
    "execution": {
     "iopub.execute_input": "2022-12-08T16:41:45.931386Z",
     "iopub.status.busy": "2022-12-08T16:41:45.930953Z",
     "iopub.status.idle": "2022-12-08T16:41:46.288086Z",
     "shell.execute_reply": "2022-12-08T16:41:46.286533Z"
    },
    "papermill": {
     "duration": 0.389077,
     "end_time": "2022-12-08T16:41:46.290770",
     "exception": false,
     "start_time": "2022-12-08T16:41:45.901693",
     "status": "completed"
    },
    "tags": []
   },
   "outputs": [
    {
     "data": {
      "image/png": "[encoded data removed]",
      "text/plain": [
       "<Figure size 1296x648 with 1 Axes>"
      ]
     },
     "metadata": {
      "needs_background": "light"
     },
     "output_type": "display_data"
    },
    {
     "data": {
      "text/plain": [
       "<Figure size 432x288 with 0 Axes>"
      ]
     },
     "metadata": {},
     "output_type": "display_data"
    }
   ],
   "source": [
    "plt.figure(figsize=(18, 9))\n",
    "ax = sns.countplot(x='name', hue = 'seession_break_reason' , data=internet_usage)\n",
    "ax.bar_label(ax.containers[0])\n",
    "plt.title(\"Session break reason Count per user\")\n",
    "plt.show()\n",
    "plt.clf()"
   ]
  },
  {
   "cell_type": "markdown",
   "id": "7f80514d",
   "metadata": {
    "papermill": {
     "duration": 0.028817,
     "end_time": "2022-12-08T16:41:46.348680",
     "exception": false,
     "start_time": "2022-12-08T16:41:46.319863",
     "status": "completed"
    },
    "tags": []
   },
   "source": [
    "If we check the session break reasons count per user, it's the same thing, the majority are from \"Idle-Timeout\" while the other reasons have very low occurrences"
   ]
  },
  {
   "cell_type": "markdown",
   "id": "2b7bab01",
   "metadata": {
    "papermill": {
     "duration": 0.028025,
     "end_time": "2022-12-08T16:41:46.405959",
     "exception": false,
     "start_time": "2022-12-08T16:41:46.377934",
     "status": "completed"
    },
    "tags": []
   },
   "source": [
    "### 3 - Deeper Analysis"
   ]
  },
  {
   "cell_type": "markdown",
   "id": "9f4674f0",
   "metadata": {
    "papermill": {
     "duration": 0.028272,
     "end_time": "2022-12-08T16:41:46.462873",
     "exception": false,
     "start_time": "2022-12-08T16:41:46.434601",
     "status": "completed"
    },
    "tags": []
   },
   "source": [
    "Now that we finished with the EDA, we can go deeper into our analysis and answer the questions asked earlier"
   ]
  },
  {
   "cell_type": "markdown",
   "id": "b0cea571",
   "metadata": {
    "papermill": {
     "duration": 0.028351,
     "end_time": "2022-12-08T16:41:46.519983",
     "exception": false,
     "start_time": "2022-12-08T16:41:46.491632",
     "status": "completed"
    },
    "tags": []
   },
   "source": [
    "We will start with this question:\n",
    "* What is the most frequent internet activity time of the day ?"
   ]
  },
  {
   "cell_type": "code",
   "execution_count": 49,
   "id": "8dc27e0f",
   "metadata": {
    "execution": {
     "iopub.execute_input": "2022-12-08T16:41:46.580225Z",
     "iopub.status.busy": "2022-12-08T16:41:46.579061Z",
     "iopub.status.idle": "2022-12-08T16:41:46.837157Z",
     "shell.execute_reply": "2022-12-08T16:41:46.835904Z"
    },
    "papermill": {
     "duration": 0.290801,
     "end_time": "2022-12-08T16:41:46.839504",
     "exception": false,
     "start_time": "2022-12-08T16:41:46.548703",
     "status": "completed"
    },
    "tags": []
   },
   "outputs": [
    {
     "data": {
      "image/png": "[encoded data removed]",
      "text/plain": [
       "<Figure size 1296x648 with 1 Axes>"
      ]
     },
     "metadata": {
      "needs_background": "light"
     },
     "output_type": "display_data"
    },
    {
     "data": {
      "text/plain": [
       "<Figure size 432x288 with 0 Axes>"
      ]
     },
     "metadata": {},
     "output_type": "display_data"
    }
   ],
   "source": [
    "internet_usage['hour'] = pd.to_datetime(internet_usage['start_time']).dt.hour\n",
    "frequent_activity_time_of_day = internet_usage['hour'].value_counts().sort_index()\n",
    "plt.figure(figsize=(18, 9))\n",
    "sns.lineplot(data=frequent_activity_time_of_day)\n",
    "plt.xticks(np.linspace(start=0, stop=24, num=25))\n",
    "plt.show()\n",
    "plt.clf()"
   ]
  },
  {
   "cell_type": "markdown",
   "id": "876da7f2",
   "metadata": {
    "papermill": {
     "duration": 0.028491,
     "end_time": "2022-12-08T16:41:46.896558",
     "exception": false,
     "start_time": "2022-12-08T16:41:46.868067",
     "status": "completed"
    },
    "tags": []
   },
   "source": [
    "The most frequent internet activity time of the day is 22h or 10pm"
   ]
  },
  {
   "cell_type": "markdown",
   "id": "83d89cd2",
   "metadata": {
    "papermill": {
     "duration": 0.028514,
     "end_time": "2022-12-08T16:41:46.953877",
     "exception": false,
     "start_time": "2022-12-08T16:41:46.925363",
     "status": "completed"
    },
    "tags": []
   },
   "source": [
    "Now we answer this question:\n",
    "* How often the ip changes ?"
   ]
  },
  {
   "cell_type": "code",
   "execution_count": 50,
   "id": "81f1524a",
   "metadata": {
    "execution": {
     "iopub.execute_input": "2022-12-08T16:41:47.013919Z",
     "iopub.status.busy": "2022-12-08T16:41:47.012980Z",
     "iopub.status.idle": "2022-12-08T16:41:48.114402Z",
     "shell.execute_reply": "2022-12-08T16:41:48.112541Z"
    },
    "papermill": {
     "duration": 1.134866,
     "end_time": "2022-12-08T16:41:48.117993",
     "exception": false,
     "start_time": "2022-12-08T16:41:46.983127",
     "status": "completed"
    },
    "tags": []
   },
   "outputs": [
    {
     "name": "stdout",
     "output_type": "stream",
     "text": [
      "The IP Adress changed 2303 times\n"
     ]
    }
   ],
   "source": [
    "base_ip = '48:E7:DA:58:22:E9'\n",
    "ip_count = 0\n",
    "for i in range(1, internet_usage.shape[0]):\n",
    "    if internet_usage.iloc[i]['ip'] != base_ip:\n",
    "        ip_count +=1\n",
    "        base_ip = internet_usage.iloc[i]['ip']\n",
    "\n",
    "print('The IP Adress changed ' + str(ip_count) + ' times') "
   ]
  },
  {
   "cell_type": "markdown",
   "id": "3c104ef9",
   "metadata": {
    "papermill": {
     "duration": 0.029446,
     "end_time": "2022-12-08T16:41:48.176955",
     "exception": false,
     "start_time": "2022-12-08T16:41:48.147509",
     "status": "completed"
    },
    "tags": []
   },
   "source": [
    "Now we answer this question :\n",
    "* How often the device changed."
   ]
  },
  {
   "cell_type": "code",
   "execution_count": 51,
   "id": "b5a0404b",
   "metadata": {
    "execution": {
     "iopub.execute_input": "2022-12-08T16:41:48.238348Z",
     "iopub.status.busy": "2022-12-08T16:41:48.237172Z",
     "iopub.status.idle": "2022-12-08T16:41:49.174451Z",
     "shell.execute_reply": "2022-12-08T16:41:49.172578Z"
    },
    "papermill": {
     "duration": 0.971962,
     "end_time": "2022-12-08T16:41:49.178256",
     "exception": false,
     "start_time": "2022-12-08T16:41:48.206294",
     "status": "completed"
    },
    "tags": []
   },
   "outputs": [
    {
     "name": "stdout",
     "output_type": "stream",
     "text": [
      "The device changed 1223 times\n"
     ]
    }
   ],
   "source": [
    "base_device = 'device1'\n",
    "device_count = 0\n",
    "for i in range(1, internet_usage.shape[0]):\n",
    "    if internet_usage.iloc[i]['device'] != base_device:\n",
    "        device_count +=1\n",
    "        base_device = internet_usage.iloc[i]['device']\n",
    "\n",
    "print('The device changed ' + str(device_count) + ' times') "
   ]
  },
  {
   "cell_type": "markdown",
   "id": "4b3b9bb2",
   "metadata": {
    "papermill": {
     "duration": 0.029805,
     "end_time": "2022-12-08T16:41:49.238348",
     "exception": false,
     "start_time": "2022-12-08T16:41:49.208543",
     "status": "completed"
    },
    "tags": []
   },
   "source": [
    "Now we answer the final question:\n",
    "* What is the average usage per hour , per day and per month ?"
   ]
  },
  {
   "cell_type": "markdown",
   "id": "8a464e27",
   "metadata": {
    "papermill": {
     "duration": 0.029906,
     "end_time": "2022-12-08T16:41:49.298238",
     "exception": false,
     "start_time": "2022-12-08T16:41:49.268332",
     "status": "completed"
    },
    "tags": []
   },
   "source": [
    "We start with the average usage per hour"
   ]
  },
  {
   "cell_type": "code",
   "execution_count": 52,
   "id": "997c10ad",
   "metadata": {
    "execution": {
     "iopub.execute_input": "2022-12-08T16:41:49.360249Z",
     "iopub.status.busy": "2022-12-08T16:41:49.359832Z",
     "iopub.status.idle": "2022-12-08T16:41:49.375337Z",
     "shell.execute_reply": "2022-12-08T16:41:49.372860Z"
    },
    "papermill": {
     "duration": 0.049813,
     "end_time": "2022-12-08T16:41:49.377861",
     "exception": false,
     "start_time": "2022-12-08T16:41:49.328048",
     "status": "completed"
    },
    "tags": []
   },
   "outputs": [
    {
     "name": "stdout",
     "output_type": "stream",
     "text": [
      "The Average usage per hour is:\n",
      " hour\n",
      "0     464530.44\n",
      "1     530880.86\n",
      "2     431576.11\n",
      "3     345303.34\n",
      "4     359809.44\n",
      "5     275960.91\n",
      "6     468959.59\n",
      "7     292886.83\n",
      "8     366681.92\n",
      "9     377480.64\n",
      "10    393259.12\n",
      "11    309492.45\n",
      "12    310137.98\n",
      "13    335270.58\n",
      "14    472403.71\n",
      "15    517005.11\n",
      "16    403919.40\n",
      "17    525423.69\n",
      "18    666590.76\n",
      "19    389841.79\n",
      "20    355862.80\n",
      "21    474038.34\n",
      "22    449600.50\n",
      "23    407785.08\n",
      "Name: total_transfer, dtype: float64\n"
     ]
    }
   ],
   "source": [
    "internet_usage.reset_index(inplace=True)\n",
    "\n",
    "internet_usage['day'] = internet_usage['start_time'].dt.day\n",
    "internet_usage['month'] = internet_usage['start_time'].dt.month\n",
    "\n",
    "hourly_average = internet_usage.groupby('hour').total_transfer.mean()\n",
    "print('The Average usage per hour is:\\n ' +  str(round(hourly_average, 2)))"
   ]
  },
  {
   "cell_type": "code",
   "execution_count": 53,
   "id": "8a9294aa",
   "metadata": {
    "execution": {
     "iopub.execute_input": "2022-12-08T16:41:49.438777Z",
     "iopub.status.busy": "2022-12-08T16:41:49.438327Z",
     "iopub.status.idle": "2022-12-08T16:41:49.709850Z",
     "shell.execute_reply": "2022-12-08T16:41:49.708437Z"
    },
    "papermill": {
     "duration": 0.304447,
     "end_time": "2022-12-08T16:41:49.711779",
     "exception": false,
     "start_time": "2022-12-08T16:41:49.407332",
     "status": "completed"
    },
    "tags": []
   },
   "outputs": [
    {
     "data": {
      "image/png": "[encoded data removed]",
      "text/plain": [
       "<Figure size 1296x648 with 1 Axes>"
      ]
     },
     "metadata": {
      "needs_background": "light"
     },
     "output_type": "display_data"
    },
    {
     "data": {
      "text/plain": [
       "<Figure size 432x288 with 0 Axes>"
      ]
     },
     "metadata": {},
     "output_type": "display_data"
    }
   ],
   "source": [
    "plt.figure(figsize=(18, 9))\n",
    "sns.barplot(x='hour', y='total_transfer' , data=internet_usage, ci=None, estimator=np.mean)\n",
    "plt.title(\"Average usage per hour\")\n",
    "plt.show()\n",
    "plt.clf()"
   ]
  },
  {
   "cell_type": "markdown",
   "id": "21563237",
   "metadata": {
    "papermill": {
     "duration": 0.029497,
     "end_time": "2022-12-08T16:41:49.771556",
     "exception": false,
     "start_time": "2022-12-08T16:41:49.742059",
     "status": "completed"
    },
    "tags": []
   },
   "source": [
    "And now we see the average usage per day"
   ]
  },
  {
   "cell_type": "code",
   "execution_count": 54,
   "id": "c23b45aa",
   "metadata": {
    "execution": {
     "iopub.execute_input": "2022-12-08T16:41:49.833054Z",
     "iopub.status.busy": "2022-12-08T16:41:49.832645Z",
     "iopub.status.idle": "2022-12-08T16:41:49.842267Z",
     "shell.execute_reply": "2022-12-08T16:41:49.840923Z"
    },
    "papermill": {
     "duration": 0.043753,
     "end_time": "2022-12-08T16:41:49.844949",
     "exception": false,
     "start_time": "2022-12-08T16:41:49.801196",
     "status": "completed"
    },
    "tags": []
   },
   "outputs": [
    {
     "name": "stdout",
     "output_type": "stream",
     "text": [
      "The Average usage per day is:\n",
      " day\n",
      "1     396705.04\n",
      "2     494496.48\n",
      "3     445865.63\n",
      "4     676332.03\n",
      "5     652195.66\n",
      "6     396261.75\n",
      "7     402259.89\n",
      "8     301859.57\n",
      "9     393521.97\n",
      "10    350665.02\n",
      "11    729857.65\n",
      "12    346695.95\n",
      "13    501906.70\n",
      "14    352701.10\n",
      "15    521520.51\n",
      "16    426719.39\n",
      "17    475795.71\n",
      "18    337490.93\n",
      "19    301941.32\n",
      "20    365130.12\n",
      "21    462211.69\n",
      "22    486595.37\n",
      "23    383153.93\n",
      "24    320598.94\n",
      "25    443689.47\n",
      "26    463432.02\n",
      "27    324318.12\n",
      "28    494576.34\n",
      "29    363645.61\n",
      "30    361418.88\n",
      "31    369118.01\n",
      "Name: total_transfer, dtype: float64\n"
     ]
    }
   ],
   "source": [
    "daily_average = internet_usage.groupby('day').total_transfer.mean()\n",
    "print('The Average usage per day is:\\n ' +  str(round(daily_average, 2)))"
   ]
  },
  {
   "cell_type": "code",
   "execution_count": 55,
   "id": "185d7940",
   "metadata": {
    "execution": {
     "iopub.execute_input": "2022-12-08T16:41:49.909209Z",
     "iopub.status.busy": "2022-12-08T16:41:49.907310Z",
     "iopub.status.idle": "2022-12-08T16:41:50.223613Z",
     "shell.execute_reply": "2022-12-08T16:41:50.221883Z"
    },
    "papermill": {
     "duration": 0.349961,
     "end_time": "2022-12-08T16:41:50.226025",
     "exception": false,
     "start_time": "2022-12-08T16:41:49.876064",
     "status": "completed"
    },
    "tags": []
   },
   "outputs": [
    {
     "data": {
      "image/png": "[encoded data removed]",
      "text/plain": [
       "<Figure size 1296x648 with 1 Axes>"
      ]
     },
     "metadata": {
      "needs_background": "light"
     },
     "output_type": "display_data"
    },
    {
     "data": {
      "text/plain": [
       "<Figure size 432x288 with 0 Axes>"
      ]
     },
     "metadata": {},
     "output_type": "display_data"
    }
   ],
   "source": [
    "plt.figure(figsize=(18, 9))\n",
    "sns.barplot(x='day', y='total_transfer' , data=internet_usage, ci=None, estimator=np.mean)\n",
    "plt.title(\"Average usage per day\")\n",
    "plt.show()\n",
    "plt.clf()"
   ]
  },
  {
   "cell_type": "markdown",
   "id": "b160d66d",
   "metadata": {
    "papermill": {
     "duration": 0.031458,
     "end_time": "2022-12-08T16:41:50.295783",
     "exception": false,
     "start_time": "2022-12-08T16:41:50.264325",
     "status": "completed"
    },
    "tags": []
   },
   "source": [
    "And now the average usage per month"
   ]
  },
  {
   "cell_type": "code",
   "execution_count": 56,
   "id": "c8e4d52e",
   "metadata": {
    "execution": {
     "iopub.execute_input": "2022-12-08T16:41:50.361499Z",
     "iopub.status.busy": "2022-12-08T16:41:50.360028Z",
     "iopub.status.idle": "2022-12-08T16:41:50.370607Z",
     "shell.execute_reply": "2022-12-08T16:41:50.369010Z"
    },
    "papermill": {
     "duration": 0.047991,
     "end_time": "2022-12-08T16:41:50.374038",
     "exception": false,
     "start_time": "2022-12-08T16:41:50.326047",
     "status": "completed"
    },
    "tags": []
   },
   "outputs": [
    {
     "name": "stdout",
     "output_type": "stream",
     "text": [
      "The Average usage per month is:\n",
      " month\n",
      "5     311177.16\n",
      "6     338418.08\n",
      "7     418583.99\n",
      "8     479042.44\n",
      "9     482955.52\n",
      "10    549467.63\n",
      "11    399804.11\n",
      "Name: total_transfer, dtype: float64\n"
     ]
    }
   ],
   "source": [
    "monthly_average = internet_usage.groupby('month').total_transfer.mean()\n",
    "print('The Average usage per month is:\\n ' +  str(round(monthly_average, 2)))"
   ]
  },
  {
   "cell_type": "code",
   "execution_count": 57,
   "id": "2dd85bdf",
   "metadata": {
    "execution": {
     "iopub.execute_input": "2022-12-08T16:41:50.437941Z",
     "iopub.status.busy": "2022-12-08T16:41:50.437544Z",
     "iopub.status.idle": "2022-12-08T16:41:50.617642Z",
     "shell.execute_reply": "2022-12-08T16:41:50.616596Z"
    },
    "papermill": {
     "duration": 0.213954,
     "end_time": "2022-12-08T16:41:50.619521",
     "exception": false,
     "start_time": "2022-12-08T16:41:50.405567",
     "status": "completed"
    },
    "scrolled": true,
    "tags": []
   },
   "outputs": [
    {
     "data": {
      "image/png": "[encoded data removed]",
      "text/plain": [
       "<Figure size 1296x648 with 1 Axes>"
      ]
     },
     "metadata": {
      "needs_background": "light"
     },
     "output_type": "display_data"
    },
    {
     "data": {
      "text/plain": [
       "<Figure size 432x288 with 0 Axes>"
      ]
     },
     "metadata": {},
     "output_type": "display_data"
    }
   ],
   "source": [
    "plt.figure(figsize=(18, 9))\n",
    "sns.barplot(x='month', y='total_transfer' , data=internet_usage, ci=None, estimator=np.mean)\n",
    "plt.title(\"Average usage per month\")\n",
    "plt.show()\n",
    "plt.clf()"
   ]
  },
  {
   "cell_type": "markdown",
   "id": "3b7153ed",
   "metadata": {},
   "source": [
    "# Machine Learning\n",
    "\n",
    "Here we will try to use the hour when a user starts using the internet, the number of hours a user uses the internet for, the download size, upload size and the total transfer size to predict the reason for a session break."
   ]
  },
  {
   "cell_type": "code",
   "execution_count": 63,
   "id": "2d940fb7",
   "metadata": {},
   "outputs": [],
   "source": [
    "df2 = internet_usage[['start_time','usage_time','upload','download','total_transfer']].copy()"
   ]
  },
  {
   "cell_type": "code",
   "execution_count": 64,
   "id": "cec4365d",
   "metadata": {},
   "outputs": [],
   "source": [
    "df2['usage_time_hours'] = pd.to_datetime(internet_usage['usage_time']).dt.hour\n",
    "df2['start_time_hours'] = pd.to_datetime(internet_usage['start_time']).dt.hour\n",
    "df2['session_break_reason'] = internet_usage['seession_break_reason'].copy()"
   ]
  },
  {
   "cell_type": "code",
   "execution_count": 65,
   "id": "9234aa04",
   "metadata": {},
   "outputs": [
    {
     "data": {
      "text/plain": [
       "array(['Idle-Timeout', 'Lost-Service', 'Lost-Carrier', 'User-Request',\n",
       "       'NAS-Reboot'], dtype=object)"
      ]
     },
     "execution_count": 65,
     "metadata": {},
     "output_type": "execute_result"
    }
   ],
   "source": [
    "df2['session_break_reason'].unique()"
   ]
  },
  {
   "cell_type": "code",
   "execution_count": 67,
   "id": "966beb7d",
   "metadata": {},
   "outputs": [],
   "source": [
    "enco = {\"session_break_reason\": {\"Idle-Timeout\":0,\"Lost-Service\":1,\"Lost-Carrier\":2,\"User-Request\":3,\"NAS-Reboot\":4}}\n",
    "df2 = df2.replace(enco)"
   ]
  },
  {
   "cell_type": "markdown",
   "id": "6086af6f",
   "metadata": {},
   "source": [
    "We are encoding the 4 types of session break reason to integer values that can be passed to a machine learning algorithm."
   ]
  },
  {
   "cell_type": "code",
   "execution_count": 70,
   "id": "381ba5a4",
   "metadata": {},
   "outputs": [],
   "source": [
    "from sklearn.metrics import log_loss\n",
    "from sklearn.metrics import accuracy_score,confusion_matrix\n",
    "from sklearn.linear_model import LinearRegression\n",
    "from sklearn.model_selection import train_test_split\n",
    "\n",
    "X = df2[['upload','download','total_transfer','usage_time_hours','start_time_hours']]\n",
    "y = df2['session_break_reason']\n",
    "\n",
    "X_train, X_test, y_train, y_test = train_test_split(X, y, test_size=0.33, random_state=42)"
   ]
  },
  {
   "cell_type": "code",
   "execution_count": 71,
   "id": "48fc40e0",
   "metadata": {},
   "outputs": [
    {
     "data": {
      "text/plain": [
       "LinearRegression()"
      ]
     },
     "execution_count": 71,
     "metadata": {},
     "output_type": "execute_result"
    }
   ],
   "source": [
    "regress = LinearRegression()\n",
    "regress.fit(X_train,y_train)"
   ]
  },
  {
   "cell_type": "code",
   "execution_count": 72,
   "id": "e8c92ebd",
   "metadata": {},
   "outputs": [
    {
     "name": "stdout",
     "output_type": "stream",
     "text": [
      "Coefficient of Score:-0.004950122350581898\n",
      "Mean Squared Error:0.2315432611483798\n"
     ]
    }
   ],
   "source": [
    "#Evaluate Model Performance\n",
    "cof = regress.score(X_test, y_test)\n",
    "\n",
    "#Mean Squared Error\n",
    "from sklearn.metrics import mean_squared_error\n",
    "y_pred = regress.predict(X_test)\n",
    "MSE = mean_squared_error(y_pred,y_test)\n",
    "\n",
    "print(f'Coefficient of Score:{cof}\\nMean Squared Error:{MSE}')"
   ]
  },
  {
   "cell_type": "markdown",
   "id": "851bc9e4",
   "metadata": {
    "papermill": {
     "duration": 0.030211,
     "end_time": "2022-12-08T16:41:50.680549",
     "exception": false,
     "start_time": "2022-12-08T16:41:50.650338",
     "status": "completed"
    },
    "tags": []
   },
   "source": [
    "### 3 - Conclusion"
   ]
  },
  {
   "cell_type": "markdown",
   "id": "f6f3f809",
   "metadata": {
    "papermill": {
     "duration": 0.030372,
     "end_time": "2022-12-08T16:41:50.742575",
     "exception": false,
     "start_time": "2022-12-08T16:41:50.712203",
     "status": "completed"
    },
    "tags": []
   },
   "source": [
    "In this project we had a dataset about the internet usage [in kb] by graduate students at an indian university.\n",
    "We imported the data, cleaned it, analyzed it and answered the questions asked\n",
    "\n",
    "The dataset contains 9 users that used 1224 difference devices to connect to the internet while uploading 2841640.0Kb and downloading 27902607.0Kb with a total transfer of 28552724.48Kb during a period of 7 months\n",
    "\n",
    "The most frequent internet activity time of the day is 22h or 10pm\n",
    "\n",
    "The IP Adress changed 2303 times while the devices used changed 1223 times\n",
    "\n",
    "The highest average usage per hour was 666590.76Kb around18h or 6pm, the highest average usage per day was 729857.65Kb around the 11th day of the month, while the highest average usage per month was during the month of October with 549467.63Kb total transfer of data.\n",
    "\n",
    "Finally, the prediction model defines that the reason for a session break is not dependent on the hour when a user starts using the internet, the number of hours a user uses the internet for, the download size, upload size and the total transfer size to predict the reason for a session break."
   ]
  }
 ],
 "metadata": {
  "kernelspec": {
   "display_name": "Python 3 (ipykernel)",
   "language": "python",
   "name": "python3"
  },
  "language_info": {
   "codemirror_mode": {
    "name": "ipython",
    "version": 3
   },
   "file_extension": ".py",
   "mimetype": "text/x-python",
   "name": "python",
   "nbconvert_exporter": "python",
   "pygments_lexer": "ipython3",
   "version": "3.9.7"
  },
  "papermill": {
   "default_parameters": {},
   "duration": 23.789693,
   "end_time": "2022-12-08T16:41:51.797090",
   "environment_variables": {},
   "exception": null,
   "input_path": "__notebook__.ipynb",
   "output_path": "__notebook__.ipynb",
   "parameters": {},
   "start_time": "2022-12-08T16:41:28.007397",
   "version": "2.3.4"
  }
 },
 "nbformat": 4,
 "nbformat_minor": 5
}
